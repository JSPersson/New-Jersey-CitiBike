{
 "cells": [
  {
   "cell_type": "markdown",
   "id": "e4dc23d0",
   "metadata": {},
   "source": [
    "# 01. Import Libraries"
   ]
  },
  {
   "cell_type": "code",
   "execution_count": 1,
   "id": "1b467d2b",
   "metadata": {},
   "outputs": [],
   "source": [
    "import pandas as pd\n",
    "import numpy as np\n",
    "import seaborn as sns\n",
    "import matplotlib\n",
    "import matplotlib.pyplot as plt\n",
    "import os\n",
    "import sklearn\n",
    "from sklearn.preprocessing import StandardScaler\n",
    "from sklearn.cluster import KMeans \n",
    "import pylab as pl\n",
    "import warnings\n",
    "warnings.filterwarnings(\"ignore\")"
   ]
  },
  {
   "cell_type": "markdown",
   "id": "cf223cc4",
   "metadata": {},
   "source": [
    "# 02. Import Data"
   ]
  },
  {
   "cell_type": "code",
   "execution_count": 2,
   "id": "f82b80cf",
   "metadata": {},
   "outputs": [],
   "source": [
    "# Display charts in notebook\n",
    "%matplotlib inline"
   ]
  },
  {
   "cell_type": "code",
   "execution_count": 3,
   "id": "0f1c8c69",
   "metadata": {},
   "outputs": [],
   "source": [
    "# Folder Path\n",
    "path = r'C:\\Users\\jrper\\OneDrive\\Documents\\Career Foundry Data Analytics Program\\Achievement 6'"
   ]
  },
  {
   "cell_type": "code",
   "execution_count": 4,
   "id": "17925ac1",
   "metadata": {},
   "outputs": [],
   "source": [
    "# Import trips_wrangled_no_outliers2.csv\n",
    "df_trips = pd.read_csv(os.path.join(path, '02 Data', 'Prepared Data', 'CitiBike_PATH_distance.csv'), index_col = False)"
   ]
  },
  {
   "cell_type": "markdown",
   "id": "2c0e12ca",
   "metadata": {},
   "source": [
    "# 03. Explore Data"
   ]
  },
  {
   "cell_type": "code",
   "execution_count": 5,
   "id": "90946524",
   "metadata": {},
   "outputs": [
    {
     "data": {
      "text/html": [
       "<div>\n",
       "<style scoped>\n",
       "    .dataframe tbody tr th:only-of-type {\n",
       "        vertical-align: middle;\n",
       "    }\n",
       "\n",
       "    .dataframe tbody tr th {\n",
       "        vertical-align: top;\n",
       "    }\n",
       "\n",
       "    .dataframe thead th {\n",
       "        text-align: right;\n",
       "    }\n",
       "</style>\n",
       "<table border=\"1\" class=\"dataframe\">\n",
       "  <thead>\n",
       "    <tr style=\"text-align: right;\">\n",
       "      <th></th>\n",
       "      <th>Start Station Name</th>\n",
       "      <th>Distance from nearest PATH station via Bicycle</th>\n",
       "      <th>Newark</th>\n",
       "      <th>Grove Street</th>\n",
       "      <th>Hoboken</th>\n",
       "      <th>Harrison</th>\n",
       "      <th>Exchange Place</th>\n",
       "      <th>Journal Square</th>\n",
       "      <th>Newport</th>\n",
       "      <th>starttime_counts</th>\n",
       "    </tr>\n",
       "  </thead>\n",
       "  <tbody>\n",
       "    <tr>\n",
       "      <th>0</th>\n",
       "      <td>5 Corners Library</td>\n",
       "      <td>0.6</td>\n",
       "      <td>7.1</td>\n",
       "      <td>1.4</td>\n",
       "      <td>2.7</td>\n",
       "      <td>7.1</td>\n",
       "      <td>2.0</td>\n",
       "      <td>0.6</td>\n",
       "      <td>1.8</td>\n",
       "      <td>1912</td>\n",
       "    </tr>\n",
       "    <tr>\n",
       "      <th>1</th>\n",
       "      <td>Astor Place</td>\n",
       "      <td>1.1</td>\n",
       "      <td>6.4</td>\n",
       "      <td>2.0</td>\n",
       "      <td>3.6</td>\n",
       "      <td>6.3</td>\n",
       "      <td>2.3</td>\n",
       "      <td>1.1</td>\n",
       "      <td>2.9</td>\n",
       "      <td>4038</td>\n",
       "    </tr>\n",
       "    <tr>\n",
       "      <th>2</th>\n",
       "      <td>Baldwin at Montgomery</td>\n",
       "      <td>0.8</td>\n",
       "      <td>6.5</td>\n",
       "      <td>1.4</td>\n",
       "      <td>3.0</td>\n",
       "      <td>6.5</td>\n",
       "      <td>1.7</td>\n",
       "      <td>0.8</td>\n",
       "      <td>2.1</td>\n",
       "      <td>5603</td>\n",
       "    </tr>\n",
       "    <tr>\n",
       "      <th>3</th>\n",
       "      <td>Bergen Ave</td>\n",
       "      <td>0.9</td>\n",
       "      <td>6.3</td>\n",
       "      <td>1.9</td>\n",
       "      <td>3.5</td>\n",
       "      <td>6.2</td>\n",
       "      <td>2.2</td>\n",
       "      <td>0.9</td>\n",
       "      <td>2.6</td>\n",
       "      <td>3899</td>\n",
       "    </tr>\n",
       "    <tr>\n",
       "      <th>4</th>\n",
       "      <td>Brunswick &amp; 6th</td>\n",
       "      <td>0.9</td>\n",
       "      <td>7.6</td>\n",
       "      <td>0.9</td>\n",
       "      <td>2.0</td>\n",
       "      <td>7.6</td>\n",
       "      <td>1.7</td>\n",
       "      <td>1.2</td>\n",
       "      <td>1.1</td>\n",
       "      <td>6340</td>\n",
       "    </tr>\n",
       "  </tbody>\n",
       "</table>\n",
       "</div>"
      ],
      "text/plain": [
       "      Start Station Name  Distance from nearest PATH station via Bicycle  \\\n",
       "0      5 Corners Library                                             0.6   \n",
       "1            Astor Place                                             1.1   \n",
       "2  Baldwin at Montgomery                                             0.8   \n",
       "3             Bergen Ave                                             0.9   \n",
       "4        Brunswick & 6th                                             0.9   \n",
       "\n",
       "   Newark  Grove Street  Hoboken  Harrison  Exchange Place  Journal Square  \\\n",
       "0     7.1           1.4      2.7       7.1             2.0             0.6   \n",
       "1     6.4           2.0      3.6       6.3             2.3             1.1   \n",
       "2     6.5           1.4      3.0       6.5             1.7             0.8   \n",
       "3     6.3           1.9      3.5       6.2             2.2             0.9   \n",
       "4     7.6           0.9      2.0       7.6             1.7             1.2   \n",
       "\n",
       "   Newport  starttime_counts  \n",
       "0      1.8              1912  \n",
       "1      2.9              4038  \n",
       "2      2.1              5603  \n",
       "3      2.6              3899  \n",
       "4      1.1              6340  "
      ]
     },
     "execution_count": 5,
     "metadata": {},
     "output_type": "execute_result"
    }
   ],
   "source": [
    "# View first 5 rows for df_trips\n",
    "df_trips.head()"
   ]
  },
  {
   "cell_type": "code",
   "execution_count": 6,
   "id": "e1337468",
   "metadata": {},
   "outputs": [
    {
     "data": {
      "text/plain": [
       "(51, 10)"
      ]
     },
     "execution_count": 6,
     "metadata": {},
     "output_type": "execute_result"
    }
   ],
   "source": [
    "# View df_trips rows and columns count\n",
    "df_trips.shape"
   ]
  },
  {
   "cell_type": "code",
   "execution_count": 7,
   "id": "dc853a9b",
   "metadata": {},
   "outputs": [
    {
     "data": {
      "text/plain": [
       "Start Station Name                                 object\n",
       "Distance from nearest PATH station via Bicycle    float64\n",
       "Newark                                            float64\n",
       "Grove Street                                      float64\n",
       "Hoboken                                           float64\n",
       "Harrison                                          float64\n",
       "Exchange Place                                    float64\n",
       "Journal Square                                    float64\n",
       "Newport                                           float64\n",
       "starttime_counts                                    int64\n",
       "dtype: object"
      ]
     },
     "execution_count": 7,
     "metadata": {},
     "output_type": "execute_result"
    }
   ],
   "source": [
    "# View df_trips columns datatypes\n",
    "df_trips.dtypes"
   ]
  },
  {
   "cell_type": "code",
   "execution_count": 8,
   "id": "7d682b8d",
   "metadata": {},
   "outputs": [],
   "source": [
    "# Create dataframe for clustering\n",
    "df_trips_cluster = df_trips[['Distance from nearest PATH station via Bicycle', 'starttime_counts']]"
   ]
  },
  {
   "cell_type": "code",
   "execution_count": 9,
   "id": "6e585466",
   "metadata": {},
   "outputs": [],
   "source": [
    "# Standardize data\n",
    "scaler = StandardScaler()\n",
    "df_std = scaler.fit_transform(df_trips_cluster)"
   ]
  },
  {
   "cell_type": "markdown",
   "id": "5f038e3c",
   "metadata": {},
   "source": [
    "# 04. Elbow Technique"
   ]
  },
  {
   "cell_type": "code",
   "execution_count": 10,
   "id": "e2d93707",
   "metadata": {},
   "outputs": [],
   "source": [
    "# Define the range of potential clusters in the data.\n",
    "num_cl = range(1, 10)\n",
    "\n",
    "# Define k-means clusters in the range assigned above.\n",
    "kmeans = [KMeans(n_clusters=i) for i in num_cl] "
   ]
  },
  {
   "cell_type": "code",
   "execution_count": 11,
   "id": "8100a0de",
   "metadata": {},
   "outputs": [
    {
     "data": {
      "text/plain": [
       "[-102.0,\n",
       " -51.87706975094794,\n",
       " -27.92489471729149,\n",
       " -20.37653016238969,\n",
       " -15.407746729293175,\n",
       " -11.534430924906797,\n",
       " -8.806046765307618,\n",
       " -7.313712435306411,\n",
       " -6.129968555001446]"
      ]
     },
     "execution_count": 11,
     "metadata": {},
     "output_type": "execute_result"
    }
   ],
   "source": [
    "# Create a score that represents a rate of variation for the given cluster option.\n",
    "score = [kmeans[i].fit(df_std).score(df_std) for i in range(len(kmeans))] \n",
    "\n",
    "score"
   ]
  },
  {
   "cell_type": "code",
   "execution_count": 12,
   "id": "2398babb",
   "metadata": {},
   "outputs": [
    {
     "data": {
      "image/png": "[encoded data removed]",
      "text/plain": [
       "<Figure size 640x480 with 1 Axes>"
      ]
     },
     "metadata": {},
     "output_type": "display_data"
    }
   ],
   "source": [
    "# Plot elbow curve using PyLab.\n",
    "pl.plot(num_cl,score)\n",
    "pl.xlabel('Number of Clusters')\n",
    "pl.ylabel('Score')\n",
    "pl.title('Elbow Curve')\n",
    "pl.show()"
   ]
  },
  {
   "cell_type": "markdown",
   "id": "15d67d1b",
   "metadata": {},
   "source": [
    "#### Observations: It appears that the 'elbow point' occurs at 3, so there will be 3 clusters in the k-means algorithm."
   ]
  },
  {
   "cell_type": "markdown",
   "id": "59bd3862",
   "metadata": {},
   "source": [
    "# 05. k-means Clustering"
   ]
  },
  {
   "cell_type": "code",
   "execution_count": 13,
   "id": "5bcc3863",
   "metadata": {},
   "outputs": [],
   "source": [
    "# Create k-means object.\n",
    "kmeans = KMeans(n_clusters = 3)"
   ]
  },
  {
   "cell_type": "code",
   "execution_count": 14,
   "id": "678938d4",
   "metadata": {},
   "outputs": [
    {
     "data": {
      "text/html": [
       "<style>#sk-container-id-1 {color: black;background-color: white;}#sk-container-id-1 pre{padding: 0;}#sk-container-id-1 div.sk-toggleable {background-color: white;}#sk-container-id-1 label.sk-toggleable__label {cursor: pointer;display: block;width: 100%;margin-bottom: 0;padding: 0.3em;box-sizing: border-box;text-align: center;}#sk-container-id-1 label.sk-toggleable__label-arrow:before {content: \"▸\";float: left;margin-right: 0.25em;color: #696969;}#sk-container-id-1 label.sk-toggleable__label-arrow:hover:before {color: black;}#sk-container-id-1 div.sk-estimator:hover label.sk-toggleable__label-arrow:before {color: black;}#sk-container-id-1 div.sk-toggleable__content {max-height: 0;max-width: 0;overflow: hidden;text-align: left;background-color: #f0f8ff;}#sk-container-id-1 div.sk-toggleable__content pre {margin: 0.2em;color: black;border-radius: 0.25em;background-color: #f0f8ff;}#sk-container-id-1 input.sk-toggleable__control:checked~div.sk-toggleable__content {max-height: 200px;max-width: 100%;overflow: auto;}#sk-container-id-1 input.sk-toggleable__control:checked~label.sk-toggleable__label-arrow:before {content: \"▾\";}#sk-container-id-1 div.sk-estimator input.sk-toggleable__control:checked~label.sk-toggleable__label {background-color: #d4ebff;}#sk-container-id-1 div.sk-label input.sk-toggleable__control:checked~label.sk-toggleable__label {background-color: #d4ebff;}#sk-container-id-1 input.sk-hidden--visually {border: 0;clip: rect(1px 1px 1px 1px);clip: rect(1px, 1px, 1px, 1px);height: 1px;margin: -1px;overflow: hidden;padding: 0;position: absolute;width: 1px;}#sk-container-id-1 div.sk-estimator {font-family: monospace;background-color: #f0f8ff;border: 1px dotted black;border-radius: 0.25em;box-sizing: border-box;margin-bottom: 0.5em;}#sk-container-id-1 div.sk-estimator:hover {background-color: #d4ebff;}#sk-container-id-1 div.sk-parallel-item::after {content: \"\";width: 100%;border-bottom: 1px solid gray;flex-grow: 1;}#sk-container-id-1 div.sk-label:hover label.sk-toggleable__label {background-color: #d4ebff;}#sk-container-id-1 div.sk-serial::before {content: \"\";position: absolute;border-left: 1px solid gray;box-sizing: border-box;top: 0;bottom: 0;left: 50%;z-index: 0;}#sk-container-id-1 div.sk-serial {display: flex;flex-direction: column;align-items: center;background-color: white;padding-right: 0.2em;padding-left: 0.2em;position: relative;}#sk-container-id-1 div.sk-item {position: relative;z-index: 1;}#sk-container-id-1 div.sk-parallel {display: flex;align-items: stretch;justify-content: center;background-color: white;position: relative;}#sk-container-id-1 div.sk-item::before, #sk-container-id-1 div.sk-parallel-item::before {content: \"\";position: absolute;border-left: 1px solid gray;box-sizing: border-box;top: 0;bottom: 0;left: 50%;z-index: -1;}#sk-container-id-1 div.sk-parallel-item {display: flex;flex-direction: column;z-index: 1;position: relative;background-color: white;}#sk-container-id-1 div.sk-parallel-item:first-child::after {align-self: flex-end;width: 50%;}#sk-container-id-1 div.sk-parallel-item:last-child::after {align-self: flex-start;width: 50%;}#sk-container-id-1 div.sk-parallel-item:only-child::after {width: 0;}#sk-container-id-1 div.sk-dashed-wrapped {border: 1px dashed gray;margin: 0 0.4em 0.5em 0.4em;box-sizing: border-box;padding-bottom: 0.4em;background-color: white;}#sk-container-id-1 div.sk-label label {font-family: monospace;font-weight: bold;display: inline-block;line-height: 1.2em;}#sk-container-id-1 div.sk-label-container {text-align: center;}#sk-container-id-1 div.sk-container {/* jupyter's `normalize.less` sets `[hidden] { display: none; }` but bootstrap.min.css set `[hidden] { display: none !important; }` so we also need the `!important` here to be able to override the default hidden behavior on the sphinx rendered scikit-learn.org. See: https://github.com/scikit-learn/scikit-learn/issues/21755 */display: inline-block !important;position: relative;}#sk-container-id-1 div.sk-text-repr-fallback {display: none;}</style><div id=\"sk-container-id-1\" class=\"sk-top-container\"><div class=\"sk-text-repr-fallback\"><pre>KMeans(n_clusters=3)</pre><b>In a Jupyter environment, please rerun this cell to show the HTML representation or trust the notebook. <br />On GitHub, the HTML representation is unable to render, please try loading this page with nbviewer.org.</b></div><div class=\"sk-container\" hidden><div class=\"sk-item\"><div class=\"sk-estimator sk-toggleable\"><input class=\"sk-toggleable__control sk-hidden--visually\" id=\"sk-estimator-id-1\" type=\"checkbox\" checked><label for=\"sk-estimator-id-1\" class=\"sk-toggleable__label sk-toggleable__label-arrow\">KMeans</label><div class=\"sk-toggleable__content\"><pre>KMeans(n_clusters=3)</pre></div></div></div></div></div>"
      ],
      "text/plain": [
       "KMeans(n_clusters=3)"
      ]
     },
     "execution_count": 14,
     "metadata": {},
     "output_type": "execute_result"
    }
   ],
   "source": [
    "# Fit the k-means object to the data.\n",
    "kmeans.fit(df_std)"
   ]
  },
  {
   "cell_type": "code",
   "execution_count": 15,
   "id": "23b62ec3",
   "metadata": {},
   "outputs": [],
   "source": [
    "# Create column with values corresponding to cluster in which observation belongs\n",
    "df_trips_cluster['clusters'] = kmeans.fit_predict(df_std)"
   ]
  },
  {
   "cell_type": "code",
   "execution_count": 16,
   "id": "10eb78c2",
   "metadata": {},
   "outputs": [
    {
     "data": {
      "text/html": [
       "<div>\n",
       "<style scoped>\n",
       "    .dataframe tbody tr th:only-of-type {\n",
       "        vertical-align: middle;\n",
       "    }\n",
       "\n",
       "    .dataframe tbody tr th {\n",
       "        vertical-align: top;\n",
       "    }\n",
       "\n",
       "    .dataframe thead th {\n",
       "        text-align: right;\n",
       "    }\n",
       "</style>\n",
       "<table border=\"1\" class=\"dataframe\">\n",
       "  <thead>\n",
       "    <tr style=\"text-align: right;\">\n",
       "      <th></th>\n",
       "      <th>Distance from nearest PATH station via Bicycle</th>\n",
       "      <th>starttime_counts</th>\n",
       "      <th>clusters</th>\n",
       "    </tr>\n",
       "  </thead>\n",
       "  <tbody>\n",
       "    <tr>\n",
       "      <th>0</th>\n",
       "      <td>0.6</td>\n",
       "      <td>1912</td>\n",
       "      <td>0</td>\n",
       "    </tr>\n",
       "    <tr>\n",
       "      <th>1</th>\n",
       "      <td>1.1</td>\n",
       "      <td>4038</td>\n",
       "      <td>1</td>\n",
       "    </tr>\n",
       "    <tr>\n",
       "      <th>2</th>\n",
       "      <td>0.8</td>\n",
       "      <td>5603</td>\n",
       "      <td>0</td>\n",
       "    </tr>\n",
       "    <tr>\n",
       "      <th>3</th>\n",
       "      <td>0.9</td>\n",
       "      <td>3899</td>\n",
       "      <td>0</td>\n",
       "    </tr>\n",
       "    <tr>\n",
       "      <th>4</th>\n",
       "      <td>0.9</td>\n",
       "      <td>6340</td>\n",
       "      <td>0</td>\n",
       "    </tr>\n",
       "  </tbody>\n",
       "</table>\n",
       "</div>"
      ],
      "text/plain": [
       "   Distance from nearest PATH station via Bicycle  starttime_counts  clusters\n",
       "0                                             0.6              1912         0\n",
       "1                                             1.1              4038         1\n",
       "2                                             0.8              5603         0\n",
       "3                                             0.9              3899         0\n",
       "4                                             0.9              6340         0"
      ]
     },
     "execution_count": 16,
     "metadata": {},
     "output_type": "execute_result"
    }
   ],
   "source": [
    "# Ensure 'clusters' column was successfully created\n",
    "df_trips_cluster.head()"
   ]
  },
  {
   "cell_type": "markdown",
   "id": "d0fa3890",
   "metadata": {},
   "source": [
    "#### Observations: New column successfully created."
   ]
  },
  {
   "cell_type": "code",
   "execution_count": 17,
   "id": "b15846fd",
   "metadata": {},
   "outputs": [
    {
     "data": {
      "text/plain": [
       "0    27\n",
       "1    14\n",
       "2    10\n",
       "Name: clusters, dtype: int64"
      ]
     },
     "execution_count": 17,
     "metadata": {},
     "output_type": "execute_result"
    }
   ],
   "source": [
    "# View counts for clusters\n",
    "df_trips_cluster['clusters'].value_counts()"
   ]
  },
  {
   "cell_type": "code",
   "execution_count": 18,
   "id": "a0753e9f",
   "metadata": {},
   "outputs": [
    {
     "data": {
      "image/png": "[encoded data removed]",
      "text/plain": [
       "<Figure size 1200x800 with 1 Axes>"
      ]
     },
     "metadata": {},
     "output_type": "display_data"
    }
   ],
   "source": [
    "# Plot clusters for 'Distance from nearest PATH station via Bicycle' and 'starttime_counts' variables.\n",
    "\n",
    "plt.figure(figsize=(12,8))\n",
    "ax = sns.scatterplot(x=df_trips_cluster['Distance from nearest PATH station via Bicycle'], y=df_trips_cluster['starttime_counts'], hue=kmeans.labels_, s=100) \n",
    " \n",
    "ax.grid(False) \n",
    "plt.xlabel('Distance from nearest PATH station in miles') \n",
    "plt.ylabel('Start Time Counts') \n",
    "plt.show()"
   ]
  },
  {
   "cell_type": "markdown",
   "id": "3bd2a656",
   "metadata": {},
   "source": [
    "#### Observations: The '0' cluster represents start time counts for Citi Bike stations 1 mile or more from the nearest PATH station. The '1' cluster represents stations with start time counts approximately 10,000 or less and are mostly between 0.2 and 0.9 miles away from the nearest PATH station. The '2' cluster represents stations with start time counts above 10,000 and are located less than 0.75 miles away from the nearest PATH station. "
   ]
  },
  {
   "cell_type": "code",
   "execution_count": 19,
   "id": "f04a7cb9",
   "metadata": {},
   "outputs": [],
   "source": [
    "# Create column for cluster color\n",
    "df_trips_cluster.loc[df_trips_cluster['clusters'] == 2, 'cluster'] = 'dark purple'\n",
    "df_trips_cluster.loc[df_trips_cluster['clusters'] == 1, 'cluster'] = 'purple'\n",
    "df_trips_cluster.loc[df_trips_cluster['clusters'] == 0, 'cluster'] = 'light pink'\n"
   ]
  },
  {
   "cell_type": "code",
   "execution_count": 20,
   "id": "7e5ece1a",
   "metadata": {},
   "outputs": [
    {
     "data": {
      "text/html": [
       "<div>\n",
       "<style scoped>\n",
       "    .dataframe tbody tr th:only-of-type {\n",
       "        vertical-align: middle;\n",
       "    }\n",
       "\n",
       "    .dataframe tbody tr th {\n",
       "        vertical-align: top;\n",
       "    }\n",
       "\n",
       "    .dataframe thead tr th {\n",
       "        text-align: left;\n",
       "    }\n",
       "\n",
       "    .dataframe thead tr:last-of-type th {\n",
       "        text-align: right;\n",
       "    }\n",
       "</style>\n",
       "<table border=\"1\" class=\"dataframe\">\n",
       "  <thead>\n",
       "    <tr>\n",
       "      <th></th>\n",
       "      <th colspan=\"2\" halign=\"left\">Distance from nearest PATH station via Bicycle</th>\n",
       "      <th colspan=\"2\" halign=\"left\">starttime_counts</th>\n",
       "    </tr>\n",
       "    <tr>\n",
       "      <th></th>\n",
       "      <th>mean</th>\n",
       "      <th>median</th>\n",
       "      <th>mean</th>\n",
       "      <th>median</th>\n",
       "    </tr>\n",
       "    <tr>\n",
       "      <th>cluster</th>\n",
       "      <th></th>\n",
       "      <th></th>\n",
       "      <th></th>\n",
       "      <th></th>\n",
       "    </tr>\n",
       "  </thead>\n",
       "  <tbody>\n",
       "    <tr>\n",
       "      <th>dark purple</th>\n",
       "      <td>0.430000</td>\n",
       "      <td>0.3</td>\n",
       "      <td>16974.900000</td>\n",
       "      <td>15634.0</td>\n",
       "    </tr>\n",
       "    <tr>\n",
       "      <th>light pink</th>\n",
       "      <td>0.518519</td>\n",
       "      <td>0.5</td>\n",
       "      <td>6207.518519</td>\n",
       "      <td>6040.0</td>\n",
       "    </tr>\n",
       "    <tr>\n",
       "      <th>purple</th>\n",
       "      <td>1.392857</td>\n",
       "      <td>1.3</td>\n",
       "      <td>3036.285714</td>\n",
       "      <td>2660.5</td>\n",
       "    </tr>\n",
       "  </tbody>\n",
       "</table>\n",
       "</div>"
      ],
      "text/plain": [
       "            Distance from nearest PATH station via Bicycle         \\\n",
       "                                                      mean median   \n",
       "cluster                                                             \n",
       "dark purple                                       0.430000    0.3   \n",
       "light pink                                        0.518519    0.5   \n",
       "purple                                            1.392857    1.3   \n",
       "\n",
       "            starttime_counts           \n",
       "                        mean   median  \n",
       "cluster                                \n",
       "dark purple     16974.900000  15634.0  \n",
       "light pink       6207.518519   6040.0  \n",
       "purple           3036.285714   2660.5  "
      ]
     },
     "execution_count": 20,
     "metadata": {},
     "output_type": "execute_result"
    }
   ],
   "source": [
    "# Calculate descriptive statistics for clusters\n",
    "df_trips_cluster.groupby('cluster').agg({'Distance from nearest PATH station via Bicycle':['mean', 'median'], \n",
    "                         'starttime_counts':['mean', 'median']})"
   ]
  },
  {
   "cell_type": "markdown",
   "id": "14bbcfd3",
   "metadata": {},
   "source": [
    "#### Observations: \n",
    "#### An understanding of customer age combined with start times and/or trip duration could give insight regarding what the bikes are being used for such as students traveling for school, adults traveling for work, or customers taking trips for recreation. \n",
    "#### The median times for beginning a trip are 8:00am and 5:00pm, so it could be valuable to combine that information with station popularity to plan for how many bikes should be available and where they are most needed. "
   ]
  },
  {
   "cell_type": "markdown",
   "id": "f3d18182",
   "metadata": {},
   "source": [
    "# 06. Export Data"
   ]
  },
  {
   "cell_type": "code",
   "execution_count": 21,
   "id": "ac59999d",
   "metadata": {},
   "outputs": [],
   "source": [
    "# Export df_trips_cluster as clustering.csv\n",
    "df_trips_cluster.to_csv(os.path.join(path, '02 Data','Prepared Data', 'clustering.csv'), index = False)"
   ]
  },
  {
   "cell_type": "code",
   "execution_count": null,
   "id": "b6c54b6d",
   "metadata": {},
   "outputs": [],
   "source": []
  }
 ],
 "metadata": {
  "kernelspec": {
   "display_name": "Python 3 (ipykernel)",
   "language": "python",
   "name": "python3"
  },
  "language_info": {
   "codemirror_mode": {
    "name": "ipython",
    "version": 3
   },
   "file_extension": ".py",
   "mimetype": "text/x-python",
   "name": "python",
   "nbconvert_exporter": "python",
   "pygments_lexer": "ipython3",
   "version": "3.10.9"
  }
 },
 "nbformat": 4,
 "nbformat_minor": 5
}
