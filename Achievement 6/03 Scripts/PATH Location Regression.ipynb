{
 "cells": [
  {
   "cell_type": "markdown",
   "id": "67b0e8e8",
   "metadata": {},
   "source": [
    "# 01. Import Libraries"
   ]
  },
  {
   "cell_type": "code",
   "execution_count": 1,
   "id": "2e7920b7",
   "metadata": {},
   "outputs": [],
   "source": [
    "import pandas as pd\n",
    "import numpy as np\n",
    "import seaborn as sns\n",
    "import matplotlib\n",
    "import matplotlib.pyplot as plt\n",
    "import os\n",
    "import sklearn\n",
    "from sklearn.model_selection import train_test_split \n",
    "from sklearn.linear_model import LinearRegression\n",
    "from sklearn.metrics import mean_squared_error, r2_score"
   ]
  },
  {
   "cell_type": "markdown",
   "id": "2b77e178",
   "metadata": {},
   "source": [
    "# 02. Import Data"
   ]
  },
  {
   "cell_type": "code",
   "execution_count": 2,
   "id": "af8b0d97",
   "metadata": {},
   "outputs": [],
   "source": [
    "# Show charts within notebook\n",
    "%matplotlib inline"
   ]
  },
  {
   "cell_type": "code",
   "execution_count": 3,
   "id": "eb3a3d55",
   "metadata": {},
   "outputs": [],
   "source": [
    "# Folder Path\n",
    "path = r'C:\\Users\\jrper\\OneDrive\\Documents\\Career Foundry Data Analytics Program\\Achievement 6'"
   ]
  },
  {
   "cell_type": "code",
   "execution_count": 4,
   "id": "8bae5dbe",
   "metadata": {},
   "outputs": [],
   "source": [
    "# Import trips_merged_cleaned2.csv\n",
    "df_trips = pd.read_csv(os.path.join(path, '02 Data', 'Prepared Data', 'CitiBike_PATH_distance.csv'), index_col = False)"
   ]
  },
  {
   "cell_type": "markdown",
   "id": "dad0e203",
   "metadata": {},
   "source": [
    "# 03. Explore Data"
   ]
  },
  {
   "cell_type": "code",
   "execution_count": 5,
   "id": "b8fd5255",
   "metadata": {},
   "outputs": [
    {
     "data": {
      "text/html": [
       "<div>\n",
       "<style scoped>\n",
       "    .dataframe tbody tr th:only-of-type {\n",
       "        vertical-align: middle;\n",
       "    }\n",
       "\n",
       "    .dataframe tbody tr th {\n",
       "        vertical-align: top;\n",
       "    }\n",
       "\n",
       "    .dataframe thead th {\n",
       "        text-align: right;\n",
       "    }\n",
       "</style>\n",
       "<table border=\"1\" class=\"dataframe\">\n",
       "  <thead>\n",
       "    <tr style=\"text-align: right;\">\n",
       "      <th></th>\n",
       "      <th>Start Station Name</th>\n",
       "      <th>Distance from nearest PATH station via Bicycle</th>\n",
       "      <th>Newark</th>\n",
       "      <th>Grove Street</th>\n",
       "      <th>Hoboken</th>\n",
       "      <th>Harrison</th>\n",
       "      <th>Exchange Place</th>\n",
       "      <th>Journal Square</th>\n",
       "      <th>Newport</th>\n",
       "      <th>starttime_counts</th>\n",
       "    </tr>\n",
       "  </thead>\n",
       "  <tbody>\n",
       "    <tr>\n",
       "      <th>0</th>\n",
       "      <td>5 Corners Library</td>\n",
       "      <td>0.6</td>\n",
       "      <td>7.1</td>\n",
       "      <td>1.4</td>\n",
       "      <td>2.7</td>\n",
       "      <td>7.1</td>\n",
       "      <td>2.0</td>\n",
       "      <td>0.6</td>\n",
       "      <td>1.8</td>\n",
       "      <td>1912</td>\n",
       "    </tr>\n",
       "    <tr>\n",
       "      <th>1</th>\n",
       "      <td>Astor Place</td>\n",
       "      <td>1.1</td>\n",
       "      <td>6.4</td>\n",
       "      <td>2.0</td>\n",
       "      <td>3.6</td>\n",
       "      <td>6.3</td>\n",
       "      <td>2.3</td>\n",
       "      <td>1.1</td>\n",
       "      <td>2.9</td>\n",
       "      <td>4038</td>\n",
       "    </tr>\n",
       "    <tr>\n",
       "      <th>2</th>\n",
       "      <td>Baldwin at Montgomery</td>\n",
       "      <td>0.8</td>\n",
       "      <td>6.5</td>\n",
       "      <td>1.4</td>\n",
       "      <td>3.0</td>\n",
       "      <td>6.5</td>\n",
       "      <td>1.7</td>\n",
       "      <td>0.8</td>\n",
       "      <td>2.1</td>\n",
       "      <td>5603</td>\n",
       "    </tr>\n",
       "    <tr>\n",
       "      <th>3</th>\n",
       "      <td>Bergen Ave</td>\n",
       "      <td>0.9</td>\n",
       "      <td>6.3</td>\n",
       "      <td>1.9</td>\n",
       "      <td>3.5</td>\n",
       "      <td>6.2</td>\n",
       "      <td>2.2</td>\n",
       "      <td>0.9</td>\n",
       "      <td>2.6</td>\n",
       "      <td>3899</td>\n",
       "    </tr>\n",
       "    <tr>\n",
       "      <th>4</th>\n",
       "      <td>Brunswick &amp; 6th</td>\n",
       "      <td>0.9</td>\n",
       "      <td>7.6</td>\n",
       "      <td>0.9</td>\n",
       "      <td>2.0</td>\n",
       "      <td>7.6</td>\n",
       "      <td>1.7</td>\n",
       "      <td>1.2</td>\n",
       "      <td>1.1</td>\n",
       "      <td>6340</td>\n",
       "    </tr>\n",
       "  </tbody>\n",
       "</table>\n",
       "</div>"
      ],
      "text/plain": [
       "      Start Station Name  Distance from nearest PATH station via Bicycle  \\\n",
       "0      5 Corners Library                                             0.6   \n",
       "1            Astor Place                                             1.1   \n",
       "2  Baldwin at Montgomery                                             0.8   \n",
       "3             Bergen Ave                                             0.9   \n",
       "4        Brunswick & 6th                                             0.9   \n",
       "\n",
       "   Newark  Grove Street  Hoboken  Harrison  Exchange Place  Journal Square  \\\n",
       "0     7.1           1.4      2.7       7.1             2.0             0.6   \n",
       "1     6.4           2.0      3.6       6.3             2.3             1.1   \n",
       "2     6.5           1.4      3.0       6.5             1.7             0.8   \n",
       "3     6.3           1.9      3.5       6.2             2.2             0.9   \n",
       "4     7.6           0.9      2.0       7.6             1.7             1.2   \n",
       "\n",
       "   Newport  starttime_counts  \n",
       "0      1.8              1912  \n",
       "1      2.9              4038  \n",
       "2      2.1              5603  \n",
       "3      2.6              3899  \n",
       "4      1.1              6340  "
      ]
     },
     "execution_count": 5,
     "metadata": {},
     "output_type": "execute_result"
    }
   ],
   "source": [
    "# View first 5 rows for df_trips\n",
    "df_trips.head()"
   ]
  },
  {
   "cell_type": "code",
   "execution_count": 6,
   "id": "f8346b16",
   "metadata": {},
   "outputs": [
    {
     "data": {
      "text/plain": [
       "(51, 10)"
      ]
     },
     "execution_count": 6,
     "metadata": {},
     "output_type": "execute_result"
    }
   ],
   "source": [
    "df_trips.shape"
   ]
  },
  {
   "cell_type": "code",
   "execution_count": 7,
   "id": "3e8e314f",
   "metadata": {},
   "outputs": [
    {
     "data": {
      "text/plain": [
       "Index(['Start Station Name', 'Distance from nearest PATH station via Bicycle',\n",
       "       'Newark', 'Grove Street', 'Hoboken', 'Harrison', 'Exchange Place',\n",
       "       'Journal Square', 'Newport', 'starttime_counts'],\n",
       "      dtype='object')"
      ]
     },
     "execution_count": 7,
     "metadata": {},
     "output_type": "execute_result"
    }
   ],
   "source": [
    "df_trips.columns"
   ]
  },
  {
   "cell_type": "code",
   "execution_count": 8,
   "id": "2be41e98",
   "metadata": {},
   "outputs": [
    {
     "data": {
      "text/html": [
       "<div>\n",
       "<style scoped>\n",
       "    .dataframe tbody tr th:only-of-type {\n",
       "        vertical-align: middle;\n",
       "    }\n",
       "\n",
       "    .dataframe tbody tr th {\n",
       "        vertical-align: top;\n",
       "    }\n",
       "\n",
       "    .dataframe thead th {\n",
       "        text-align: right;\n",
       "    }\n",
       "</style>\n",
       "<table border=\"1\" class=\"dataframe\">\n",
       "  <thead>\n",
       "    <tr style=\"text-align: right;\">\n",
       "      <th></th>\n",
       "      <th>Distance from nearest PATH station via Bicycle</th>\n",
       "      <th>Newark</th>\n",
       "      <th>Grove Street</th>\n",
       "      <th>Hoboken</th>\n",
       "      <th>Harrison</th>\n",
       "      <th>Exchange Place</th>\n",
       "      <th>Journal Square</th>\n",
       "      <th>Newport</th>\n",
       "      <th>starttime_counts</th>\n",
       "    </tr>\n",
       "  </thead>\n",
       "  <tbody>\n",
       "    <tr>\n",
       "      <th>count</th>\n",
       "      <td>51.000000</td>\n",
       "      <td>51.000000</td>\n",
       "      <td>51.000000</td>\n",
       "      <td>51.000000</td>\n",
       "      <td>51.000000</td>\n",
       "      <td>51.000000</td>\n",
       "      <td>51.000000</td>\n",
       "      <td>51.000000</td>\n",
       "      <td>51.000000</td>\n",
       "    </tr>\n",
       "    <tr>\n",
       "      <th>mean</th>\n",
       "      <td>0.741176</td>\n",
       "      <td>7.462745</td>\n",
       "      <td>1.192157</td>\n",
       "      <td>2.556863</td>\n",
       "      <td>7.470588</td>\n",
       "      <td>1.539216</td>\n",
       "      <td>1.627451</td>\n",
       "      <td>1.650980</td>\n",
       "      <td>7448.235294</td>\n",
       "    </tr>\n",
       "    <tr>\n",
       "      <th>std</th>\n",
       "      <td>0.494844</td>\n",
       "      <td>1.048611</td>\n",
       "      <td>0.765465</td>\n",
       "      <td>0.750801</td>\n",
       "      <td>0.807290</td>\n",
       "      <td>0.885230</td>\n",
       "      <td>0.633744</td>\n",
       "      <td>0.850734</td>\n",
       "      <td>5602.484005</td>\n",
       "    </tr>\n",
       "    <tr>\n",
       "      <th>min</th>\n",
       "      <td>0.000000</td>\n",
       "      <td>2.700000</td>\n",
       "      <td>0.100000</td>\n",
       "      <td>1.000000</td>\n",
       "      <td>5.800000</td>\n",
       "      <td>0.000000</td>\n",
       "      <td>0.500000</td>\n",
       "      <td>0.200000</td>\n",
       "      <td>1286.000000</td>\n",
       "    </tr>\n",
       "    <tr>\n",
       "      <th>25%</th>\n",
       "      <td>0.300000</td>\n",
       "      <td>6.950000</td>\n",
       "      <td>0.550000</td>\n",
       "      <td>2.050000</td>\n",
       "      <td>6.950000</td>\n",
       "      <td>0.800000</td>\n",
       "      <td>1.200000</td>\n",
       "      <td>1.000000</td>\n",
       "      <td>3607.500000</td>\n",
       "    </tr>\n",
       "    <tr>\n",
       "      <th>50%</th>\n",
       "      <td>0.600000</td>\n",
       "      <td>7.700000</td>\n",
       "      <td>1.100000</td>\n",
       "      <td>2.400000</td>\n",
       "      <td>7.600000</td>\n",
       "      <td>1.600000</td>\n",
       "      <td>1.700000</td>\n",
       "      <td>1.400000</td>\n",
       "      <td>5914.000000</td>\n",
       "    </tr>\n",
       "    <tr>\n",
       "      <th>75%</th>\n",
       "      <td>1.050000</td>\n",
       "      <td>8.100000</td>\n",
       "      <td>1.800000</td>\n",
       "      <td>3.150000</td>\n",
       "      <td>8.000000</td>\n",
       "      <td>2.200000</td>\n",
       "      <td>2.100000</td>\n",
       "      <td>2.400000</td>\n",
       "      <td>10048.000000</td>\n",
       "    </tr>\n",
       "    <tr>\n",
       "      <th>max</th>\n",
       "      <td>1.800000</td>\n",
       "      <td>8.900000</td>\n",
       "      <td>2.900000</td>\n",
       "      <td>4.500000</td>\n",
       "      <td>8.900000</td>\n",
       "      <td>3.000000</td>\n",
       "      <td>2.700000</td>\n",
       "      <td>3.600000</td>\n",
       "      <td>25629.000000</td>\n",
       "    </tr>\n",
       "  </tbody>\n",
       "</table>\n",
       "</div>"
      ],
      "text/plain": [
       "       Distance from nearest PATH station via Bicycle     Newark  \\\n",
       "count                                       51.000000  51.000000   \n",
       "mean                                         0.741176   7.462745   \n",
       "std                                          0.494844   1.048611   \n",
       "min                                          0.000000   2.700000   \n",
       "25%                                          0.300000   6.950000   \n",
       "50%                                          0.600000   7.700000   \n",
       "75%                                          1.050000   8.100000   \n",
       "max                                          1.800000   8.900000   \n",
       "\n",
       "       Grove Street    Hoboken   Harrison  Exchange Place  Journal Square  \\\n",
       "count     51.000000  51.000000  51.000000       51.000000       51.000000   \n",
       "mean       1.192157   2.556863   7.470588        1.539216        1.627451   \n",
       "std        0.765465   0.750801   0.807290        0.885230        0.633744   \n",
       "min        0.100000   1.000000   5.800000        0.000000        0.500000   \n",
       "25%        0.550000   2.050000   6.950000        0.800000        1.200000   \n",
       "50%        1.100000   2.400000   7.600000        1.600000        1.700000   \n",
       "75%        1.800000   3.150000   8.000000        2.200000        2.100000   \n",
       "max        2.900000   4.500000   8.900000        3.000000        2.700000   \n",
       "\n",
       "         Newport  starttime_counts  \n",
       "count  51.000000         51.000000  \n",
       "mean    1.650980       7448.235294  \n",
       "std     0.850734       5602.484005  \n",
       "min     0.200000       1286.000000  \n",
       "25%     1.000000       3607.500000  \n",
       "50%     1.400000       5914.000000  \n",
       "75%     2.400000      10048.000000  \n",
       "max     3.600000      25629.000000  "
      ]
     },
     "execution_count": 8,
     "metadata": {},
     "output_type": "execute_result"
    }
   ],
   "source": [
    "df_trips.describe()"
   ]
  },
  {
   "cell_type": "code",
   "execution_count": 9,
   "id": "2141b6dc",
   "metadata": {},
   "outputs": [
    {
     "data": {
      "text/plain": [
       "Start Station Name                                0\n",
       "Distance from nearest PATH station via Bicycle    0\n",
       "Newark                                            0\n",
       "Grove Street                                      0\n",
       "Hoboken                                           0\n",
       "Harrison                                          0\n",
       "Exchange Place                                    0\n",
       "Journal Square                                    0\n",
       "Newport                                           0\n",
       "starttime_counts                                  0\n",
       "dtype: int64"
      ]
     },
     "execution_count": 9,
     "metadata": {},
     "output_type": "execute_result"
    }
   ],
   "source": [
    "df_trips.isnull().sum()"
   ]
  },
  {
   "cell_type": "markdown",
   "id": "1372cf0f",
   "metadata": {},
   "source": [
    "#### Observations: Data is as expected."
   ]
  },
  {
   "cell_type": "markdown",
   "id": "cc382870",
   "metadata": {},
   "source": [
    "# 04. Data Preparation for Regression Analysis"
   ]
  },
  {
   "cell_type": "code",
   "execution_count": 10,
   "id": "e0f9a844",
   "metadata": {},
   "outputs": [
    {
     "data": {
      "image/png": "[encoded data removed]",
      "text/plain": [
       "<Figure size 640x480 with 1 Axes>"
      ]
     },
     "metadata": {},
     "output_type": "display_data"
    }
   ],
   "source": [
    "# Create scatterplot for 'Distance from nearest PATH station via Bicycle' and 'starttime_counts'\n",
    "df_trips.plot(x = 'Distance from nearest PATH station via Bicycle', y='starttime_counts',style='o') \n",
    "plt.title('Distance from PATH Station vs Start Time Counts')  \n",
    "plt.xlabel('Distance in Miles')  \n",
    "plt.ylabel('Start Time Counts')  \n",
    "plt.show()"
   ]
  },
  {
   "cell_type": "markdown",
   "id": "27da9042",
   "metadata": {},
   "source": [
    "#### Hypothesis: If a Citi Bike station is located farther from a PATH station, it will be less popular."
   ]
  },
  {
   "cell_type": "code",
   "execution_count": 11,
   "id": "7399f237",
   "metadata": {},
   "outputs": [],
   "source": [
    "# Reshape variables into Numpy arrays and put into separate objects\n",
    "X = df_trips['Distance from nearest PATH station via Bicycle'].values.reshape(-1,1)\n",
    "y = df_trips['starttime_counts'].values.reshape(-1,1)"
   ]
  },
  {
   "cell_type": "code",
   "execution_count": 12,
   "id": "73e29ec2",
   "metadata": {},
   "outputs": [
    {
     "data": {
      "text/plain": [
       "array([[0.6],\n",
       "       [1.1],\n",
       "       [0.8],\n",
       "       [0.9],\n",
       "       [0.9],\n",
       "       [0.6],\n",
       "       [1.2],\n",
       "       [0.2],\n",
       "       [0. ],\n",
       "       [0.1],\n",
       "       [1.5],\n",
       "       [0.7],\n",
       "       [0.5],\n",
       "       [0.4],\n",
       "       [0.8],\n",
       "       [1. ],\n",
       "       [0.3],\n",
       "       [0.1],\n",
       "       [0.7],\n",
       "       [0.2],\n",
       "       [1.8],\n",
       "       [0.6],\n",
       "       [1. ],\n",
       "       [1.8],\n",
       "       [0.7],\n",
       "       [0.5],\n",
       "       [0.6],\n",
       "       [0.5],\n",
       "       [1.7],\n",
       "       [1.2],\n",
       "       [1.3],\n",
       "       [1.2],\n",
       "       [0.2],\n",
       "       [0.3],\n",
       "       [0.6],\n",
       "       [0.9],\n",
       "       [0.6],\n",
       "       [0.5],\n",
       "       [0.3],\n",
       "       [0.2],\n",
       "       [0.3],\n",
       "       [1.1],\n",
       "       [0.2],\n",
       "       [1.4],\n",
       "       [1.8],\n",
       "       [0.5],\n",
       "       [1.7],\n",
       "       [0.5],\n",
       "       [0.6],\n",
       "       [0.3],\n",
       "       [0.3]])"
      ]
     },
     "execution_count": 12,
     "metadata": {},
     "output_type": "execute_result"
    }
   ],
   "source": [
    "# View array for independent variable\n",
    "X"
   ]
  },
  {
   "cell_type": "code",
   "execution_count": 13,
   "id": "f9b931a9",
   "metadata": {},
   "outputs": [
    {
     "data": {
      "text/plain": [
       "array([[ 1912],\n",
       "       [ 4038],\n",
       "       [ 5603],\n",
       "       [ 3899],\n",
       "       [ 6340],\n",
       "       [ 6407],\n",
       "       [ 1946],\n",
       "       [10935],\n",
       "       [14005],\n",
       "       [ 8210],\n",
       "       [ 2612],\n",
       "       [ 1821],\n",
       "       [ 5153],\n",
       "       [ 4963],\n",
       "       [ 4080],\n",
       "       [ 2297],\n",
       "       [ 6035],\n",
       "       [25629],\n",
       "       [16725],\n",
       "       [14252],\n",
       "       [ 3506],\n",
       "       [ 3709],\n",
       "       [ 4533],\n",
       "       [ 1679],\n",
       "       [12134],\n",
       "       [ 6808],\n",
       "       [ 6091],\n",
       "       [ 3502],\n",
       "       [ 4147],\n",
       "       [ 1286],\n",
       "       [18933],\n",
       "       [ 5914],\n",
       "       [ 6040],\n",
       "       [15501],\n",
       "       [ 6633],\n",
       "       [ 5023],\n",
       "       [ 4508],\n",
       "       [10283],\n",
       "       [ 8731],\n",
       "       [14583],\n",
       "       [22220],\n",
       "       [ 2709],\n",
       "       [ 8981],\n",
       "       [ 3966],\n",
       "       [ 2173],\n",
       "       [15767],\n",
       "       [ 1702],\n",
       "       [ 8200],\n",
       "       [10489],\n",
       "       [ 9813],\n",
       "       [ 3434]], dtype=int64)"
      ]
     },
     "execution_count": 13,
     "metadata": {},
     "output_type": "execute_result"
    }
   ],
   "source": [
    "# View array for dependent variable\n",
    "y"
   ]
  },
  {
   "cell_type": "code",
   "execution_count": 14,
   "id": "9d679992",
   "metadata": {},
   "outputs": [],
   "source": [
    "# Split data into train set and test set\n",
    "X_train, X_test, y_train, y_test = train_test_split(X, y, test_size=0.3, random_state=0)"
   ]
  },
  {
   "cell_type": "markdown",
   "id": "455116d2",
   "metadata": {},
   "source": [
    "# 05. Regression Analysis"
   ]
  },
  {
   "cell_type": "code",
   "execution_count": 15,
   "id": "58fbfd63",
   "metadata": {},
   "outputs": [],
   "source": [
    "# Create regression object\n",
    "regression = LinearRegression()"
   ]
  },
  {
   "cell_type": "code",
   "execution_count": 16,
   "id": "40ebcaec",
   "metadata": {},
   "outputs": [
    {
     "data": {
      "text/html": [
       "<style>#sk-container-id-1 {color: black;background-color: white;}#sk-container-id-1 pre{padding: 0;}#sk-container-id-1 div.sk-toggleable {background-color: white;}#sk-container-id-1 label.sk-toggleable__label {cursor: pointer;display: block;width: 100%;margin-bottom: 0;padding: 0.3em;box-sizing: border-box;text-align: center;}#sk-container-id-1 label.sk-toggleable__label-arrow:before {content: \"▸\";float: left;margin-right: 0.25em;color: #696969;}#sk-container-id-1 label.sk-toggleable__label-arrow:hover:before {color: black;}#sk-container-id-1 div.sk-estimator:hover label.sk-toggleable__label-arrow:before {color: black;}#sk-container-id-1 div.sk-toggleable__content {max-height: 0;max-width: 0;overflow: hidden;text-align: left;background-color: #f0f8ff;}#sk-container-id-1 div.sk-toggleable__content pre {margin: 0.2em;color: black;border-radius: 0.25em;background-color: #f0f8ff;}#sk-container-id-1 input.sk-toggleable__control:checked~div.sk-toggleable__content {max-height: 200px;max-width: 100%;overflow: auto;}#sk-container-id-1 input.sk-toggleable__control:checked~label.sk-toggleable__label-arrow:before {content: \"▾\";}#sk-container-id-1 div.sk-estimator input.sk-toggleable__control:checked~label.sk-toggleable__label {background-color: #d4ebff;}#sk-container-id-1 div.sk-label input.sk-toggleable__control:checked~label.sk-toggleable__label {background-color: #d4ebff;}#sk-container-id-1 input.sk-hidden--visually {border: 0;clip: rect(1px 1px 1px 1px);clip: rect(1px, 1px, 1px, 1px);height: 1px;margin: -1px;overflow: hidden;padding: 0;position: absolute;width: 1px;}#sk-container-id-1 div.sk-estimator {font-family: monospace;background-color: #f0f8ff;border: 1px dotted black;border-radius: 0.25em;box-sizing: border-box;margin-bottom: 0.5em;}#sk-container-id-1 div.sk-estimator:hover {background-color: #d4ebff;}#sk-container-id-1 div.sk-parallel-item::after {content: \"\";width: 100%;border-bottom: 1px solid gray;flex-grow: 1;}#sk-container-id-1 div.sk-label:hover label.sk-toggleable__label {background-color: #d4ebff;}#sk-container-id-1 div.sk-serial::before {content: \"\";position: absolute;border-left: 1px solid gray;box-sizing: border-box;top: 0;bottom: 0;left: 50%;z-index: 0;}#sk-container-id-1 div.sk-serial {display: flex;flex-direction: column;align-items: center;background-color: white;padding-right: 0.2em;padding-left: 0.2em;position: relative;}#sk-container-id-1 div.sk-item {position: relative;z-index: 1;}#sk-container-id-1 div.sk-parallel {display: flex;align-items: stretch;justify-content: center;background-color: white;position: relative;}#sk-container-id-1 div.sk-item::before, #sk-container-id-1 div.sk-parallel-item::before {content: \"\";position: absolute;border-left: 1px solid gray;box-sizing: border-box;top: 0;bottom: 0;left: 50%;z-index: -1;}#sk-container-id-1 div.sk-parallel-item {display: flex;flex-direction: column;z-index: 1;position: relative;background-color: white;}#sk-container-id-1 div.sk-parallel-item:first-child::after {align-self: flex-end;width: 50%;}#sk-container-id-1 div.sk-parallel-item:last-child::after {align-self: flex-start;width: 50%;}#sk-container-id-1 div.sk-parallel-item:only-child::after {width: 0;}#sk-container-id-1 div.sk-dashed-wrapped {border: 1px dashed gray;margin: 0 0.4em 0.5em 0.4em;box-sizing: border-box;padding-bottom: 0.4em;background-color: white;}#sk-container-id-1 div.sk-label label {font-family: monospace;font-weight: bold;display: inline-block;line-height: 1.2em;}#sk-container-id-1 div.sk-label-container {text-align: center;}#sk-container-id-1 div.sk-container {/* jupyter's `normalize.less` sets `[hidden] { display: none; }` but bootstrap.min.css set `[hidden] { display: none !important; }` so we also need the `!important` here to be able to override the default hidden behavior on the sphinx rendered scikit-learn.org. See: https://github.com/scikit-learn/scikit-learn/issues/21755 */display: inline-block !important;position: relative;}#sk-container-id-1 div.sk-text-repr-fallback {display: none;}</style><div id=\"sk-container-id-1\" class=\"sk-top-container\"><div class=\"sk-text-repr-fallback\"><pre>LinearRegression()</pre><b>In a Jupyter environment, please rerun this cell to show the HTML representation or trust the notebook. <br />On GitHub, the HTML representation is unable to render, please try loading this page with nbviewer.org.</b></div><div class=\"sk-container\" hidden><div class=\"sk-item\"><div class=\"sk-estimator sk-toggleable\"><input class=\"sk-toggleable__control sk-hidden--visually\" id=\"sk-estimator-id-1\" type=\"checkbox\" checked><label for=\"sk-estimator-id-1\" class=\"sk-toggleable__label sk-toggleable__label-arrow\">LinearRegression</label><div class=\"sk-toggleable__content\"><pre>LinearRegression()</pre></div></div></div></div></div>"
      ],
      "text/plain": [
       "LinearRegression()"
      ]
     },
     "execution_count": 16,
     "metadata": {},
     "output_type": "execute_result"
    }
   ],
   "source": [
    "# Fit regression object onto training set\n",
    "regression.fit(X_train, y_train)"
   ]
  },
  {
   "cell_type": "code",
   "execution_count": 17,
   "id": "a7a31665",
   "metadata": {},
   "outputs": [],
   "source": [
    "# Predict values of y using X\n",
    "y_predicted = regression.predict(X_test)"
   ]
  },
  {
   "cell_type": "code",
   "execution_count": 18,
   "id": "f583c6bb",
   "metadata": {},
   "outputs": [
    {
     "data": {
      "image/png": "[encoded data removed]",
      "text/plain": [
       "<Figure size 640x480 with 1 Axes>"
      ]
     },
     "metadata": {},
     "output_type": "display_data"
    }
   ],
   "source": [
    "# Create Plot that shows regression line from model on test set\n",
    "plot_test = plt\n",
    "plot_test.scatter(X_test, y_test, color='gray', s = 15)\n",
    "plot_test.plot(X_test, y_predicted, color='red', linewidth =3)\n",
    "plot_test.title('Distance from PATH Station vs Start Time Counts (Test set)')\n",
    "plot_test.xlabel('Distance from PATH Station in Miles')\n",
    "plot_test.ylabel('Start Time Counts')\n",
    "plot_test.show()"
   ]
  },
  {
   "cell_type": "markdown",
   "id": "5ae06bae",
   "metadata": {},
   "source": [
    "#### Observations: The regression line slopes downward, so it suggests that station popularity decreases as the distance from a PATH station increases. The regression line is a very poor fit."
   ]
  },
  {
   "cell_type": "code",
   "execution_count": 19,
   "id": "1cc4f2de",
   "metadata": {},
   "outputs": [],
   "source": [
    "# Create objects containing model summary statistics\n",
    "rmse = mean_squared_error(y_test, y_predicted) # Mean Squared Error (MSE)\n",
    "r2 = r2_score(y_test, y_predicted) # R2 score. "
   ]
  },
  {
   "cell_type": "code",
   "execution_count": 20,
   "id": "67d768f8",
   "metadata": {},
   "outputs": [
    {
     "name": "stdout",
     "output_type": "stream",
     "text": [
      "Slope: [[-5665.44435597]]\n",
      "Mean squared error:  13654412.426823273\n",
      "R2 score:  0.2336312039336279\n"
     ]
    }
   ],
   "source": [
    "# Print model summary statistics\n",
    "print('Slope:' ,regression.coef_)\n",
    "print('Mean squared error: ', rmse)\n",
    "print('R2 score: ', r2)"
   ]
  },
  {
   "cell_type": "markdown",
   "id": "fcfe7dbc",
   "metadata": {},
   "source": [
    "#### Observations: Statistics show that there is not a linear relationship between the variables."
   ]
  },
  {
   "cell_type": "code",
   "execution_count": 21,
   "id": "955c4dbb",
   "metadata": {},
   "outputs": [
    {
     "data": {
      "text/plain": [
       "array([[ 5302.02829669],\n",
       "       [ 8134.75047467],\n",
       "       [ 3602.39498989],\n",
       "       [ 6435.11716788],\n",
       "       [ 7568.20603908],\n",
       "       [ 2469.3061187 ],\n",
       "       [ 9267.83934587],\n",
       "       [10967.47265266],\n",
       "       [ 8701.29491027],\n",
       "       [ 7001.66160348],\n",
       "       [10400.92821706],\n",
       "       [ 5868.57273228],\n",
       "       [ 9267.83934587],\n",
       "       [ 7001.66160348],\n",
       "       [ 8701.29491027],\n",
       "       [10967.47265266]])"
      ]
     },
     "execution_count": 21,
     "metadata": {},
     "output_type": "execute_result"
    }
   ],
   "source": [
    "# View array for y_predicted\n",
    "y_predicted"
   ]
  },
  {
   "cell_type": "code",
   "execution_count": 22,
   "id": "a5fa013f",
   "metadata": {},
   "outputs": [
    {
     "data": {
      "text/html": [
       "<div>\n",
       "<style scoped>\n",
       "    .dataframe tbody tr th:only-of-type {\n",
       "        vertical-align: middle;\n",
       "    }\n",
       "\n",
       "    .dataframe tbody tr th {\n",
       "        vertical-align: top;\n",
       "    }\n",
       "\n",
       "    .dataframe thead th {\n",
       "        text-align: right;\n",
       "    }\n",
       "</style>\n",
       "<table border=\"1\" class=\"dataframe\">\n",
       "  <thead>\n",
       "    <tr style=\"text-align: right;\">\n",
       "      <th></th>\n",
       "      <th>Actual</th>\n",
       "      <th>Predicted</th>\n",
       "    </tr>\n",
       "  </thead>\n",
       "  <tbody>\n",
       "    <tr>\n",
       "      <th>0</th>\n",
       "      <td>1286</td>\n",
       "      <td>5302.028297</td>\n",
       "    </tr>\n",
       "    <tr>\n",
       "      <th>1</th>\n",
       "      <td>1821</td>\n",
       "      <td>8134.750475</td>\n",
       "    </tr>\n",
       "    <tr>\n",
       "      <th>2</th>\n",
       "      <td>2612</td>\n",
       "      <td>3602.394990</td>\n",
       "    </tr>\n",
       "    <tr>\n",
       "      <th>3</th>\n",
       "      <td>4533</td>\n",
       "      <td>6435.117168</td>\n",
       "    </tr>\n",
       "    <tr>\n",
       "      <th>4</th>\n",
       "      <td>5603</td>\n",
       "      <td>7568.206039</td>\n",
       "    </tr>\n",
       "    <tr>\n",
       "      <th>5</th>\n",
       "      <td>4147</td>\n",
       "      <td>2469.306119</td>\n",
       "    </tr>\n",
       "    <tr>\n",
       "      <th>6</th>\n",
       "      <td>15767</td>\n",
       "      <td>9267.839346</td>\n",
       "    </tr>\n",
       "    <tr>\n",
       "      <th>7</th>\n",
       "      <td>6040</td>\n",
       "      <td>10967.472653</td>\n",
       "    </tr>\n",
       "    <tr>\n",
       "      <th>8</th>\n",
       "      <td>6091</td>\n",
       "      <td>8701.294910</td>\n",
       "    </tr>\n",
       "    <tr>\n",
       "      <th>9</th>\n",
       "      <td>6340</td>\n",
       "      <td>7001.661603</td>\n",
       "    </tr>\n",
       "    <tr>\n",
       "      <th>10</th>\n",
       "      <td>15501</td>\n",
       "      <td>10400.928217</td>\n",
       "    </tr>\n",
       "    <tr>\n",
       "      <th>11</th>\n",
       "      <td>2709</td>\n",
       "      <td>5868.572732</td>\n",
       "    </tr>\n",
       "    <tr>\n",
       "      <th>12</th>\n",
       "      <td>3502</td>\n",
       "      <td>9267.839346</td>\n",
       "    </tr>\n",
       "    <tr>\n",
       "      <th>13</th>\n",
       "      <td>5023</td>\n",
       "      <td>7001.661603</td>\n",
       "    </tr>\n",
       "    <tr>\n",
       "      <th>14</th>\n",
       "      <td>6633</td>\n",
       "      <td>8701.294910</td>\n",
       "    </tr>\n",
       "    <tr>\n",
       "      <th>15</th>\n",
       "      <td>10935</td>\n",
       "      <td>10967.472653</td>\n",
       "    </tr>\n",
       "  </tbody>\n",
       "</table>\n",
       "</div>"
      ],
      "text/plain": [
       "    Actual     Predicted\n",
       "0     1286   5302.028297\n",
       "1     1821   8134.750475\n",
       "2     2612   3602.394990\n",
       "3     4533   6435.117168\n",
       "4     5603   7568.206039\n",
       "5     4147   2469.306119\n",
       "6    15767   9267.839346\n",
       "7     6040  10967.472653\n",
       "8     6091   8701.294910\n",
       "9     6340   7001.661603\n",
       "10   15501  10400.928217\n",
       "11    2709   5868.572732\n",
       "12    3502   9267.839346\n",
       "13    5023   7001.661603\n",
       "14    6633   8701.294910\n",
       "15   10935  10967.472653"
      ]
     },
     "execution_count": 22,
     "metadata": {},
     "output_type": "execute_result"
    }
   ],
   "source": [
    "# Create a dataframe comparing actual and predicted values of y.\n",
    "data = pd.DataFrame({'Actual': y_test.flatten(), 'Predicted': y_predicted.flatten()})\n",
    "data.head(30)"
   ]
  },
  {
   "cell_type": "markdown",
   "id": "a00771b3",
   "metadata": {},
   "source": [
    "#### Observations: The model performed very poorly on the test set. The relationship between these variables cannot be explained by a straight regression line."
   ]
  },
  {
   "cell_type": "markdown",
   "id": "22514d52",
   "metadata": {},
   "source": [
    "# 06. Compare how Regression fits Training Set"
   ]
  },
  {
   "cell_type": "code",
   "execution_count": 23,
   "id": "82d2916d",
   "metadata": {},
   "outputs": [],
   "source": [
    "# Predict\n",
    "y_predicted_train = regression.predict(X_train) # This is predicting X_train!"
   ]
  },
  {
   "cell_type": "code",
   "execution_count": 24,
   "id": "fddad54f",
   "metadata": {},
   "outputs": [],
   "source": [
    "# Create objects containing summary statistics\n",
    "rmse = mean_squared_error(y_train, y_predicted_train)\n",
    "r2 = r2_score(y_train, y_predicted_train)"
   ]
  },
  {
   "cell_type": "code",
   "execution_count": 25,
   "id": "6f84272b",
   "metadata": {},
   "outputs": [
    {
     "name": "stdout",
     "output_type": "stream",
     "text": [
      "Slope: [[-5665.44435597]]\n",
      "Mean squared error:  27031588.66695832\n",
      "R2 score:  0.24041983792316646\n"
     ]
    }
   ],
   "source": [
    "# Print summary statistics\n",
    "print('Slope:', regression.coef_)\n",
    "print('Mean squared error: ', rmse)\n",
    "print('R2 score: ', r2)"
   ]
  },
  {
   "cell_type": "code",
   "execution_count": 26,
   "id": "5de9fd17",
   "metadata": {},
   "outputs": [
    {
     "data": {
      "image/png": "[encoded data removed]",
      "text/plain": [
       "<Figure size 640x480 with 1 Axes>"
      ]
     },
     "metadata": {},
     "output_type": "display_data"
    }
   ],
   "source": [
    "# Visualizing training set results.\n",
    "\n",
    "plot_test = plt\n",
    "plot_test.scatter(X_train, y_train, color='green', s = 15)\n",
    "plot_test.plot(X_train, y_predicted_train, color='red', linewidth =3)\n",
    "plot_test.title('Distance from PATH Station vs Start Time Counts (Train set)')\n",
    "plot_test.xlabel('Distance from PATH Station')\n",
    "plot_test.ylabel('Start Time Counts')\n",
    "plot_test.show()"
   ]
  },
  {
   "cell_type": "code",
   "execution_count": null,
   "id": "94384e38",
   "metadata": {},
   "outputs": [],
   "source": []
  }
 ],
 "metadata": {
  "kernelspec": {
   "display_name": "Python 3 (ipykernel)",
   "language": "python",
   "name": "python3"
  },
  "language_info": {
   "codemirror_mode": {
    "name": "ipython",
    "version": 3
   },
   "file_extension": ".py",
   "mimetype": "text/x-python",
   "name": "python",
   "nbconvert_exporter": "python",
   "pygments_lexer": "ipython3",
   "version": "3.10.9"
  }
 },
 "nbformat": 4,
 "nbformat_minor": 5
}
