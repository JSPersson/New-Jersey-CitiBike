{
 "cells": [
  {
   "cell_type": "markdown",
   "id": "67b0e8e8",
   "metadata": {},
   "source": [
    "# 01. Import Libraries"
   ]
  },
  {
   "cell_type": "code",
   "execution_count": 1,
   "id": "2e7920b7",
   "metadata": {},
   "outputs": [],
   "source": [
    "import pandas as pd\n",
    "import numpy as np\n",
    "import seaborn as sns\n",
    "import matplotlib\n",
    "import matplotlib.pyplot as plt\n",
    "import os\n",
    "import sklearn\n",
    "from sklearn.model_selection import train_test_split \n",
    "from sklearn.linear_model import LinearRegression\n",
    "from sklearn.metrics import mean_squared_error, r2_score"
   ]
  },
  {
   "cell_type": "markdown",
   "id": "2b77e178",
   "metadata": {},
   "source": [
    "# 02. Import Data"
   ]
  },
  {
   "cell_type": "code",
   "execution_count": 2,
   "id": "af8b0d97",
   "metadata": {},
   "outputs": [],
   "source": [
    "# Show charts within notebook\n",
    "%matplotlib inline"
   ]
  },
  {
   "cell_type": "code",
   "execution_count": 3,
   "id": "eb3a3d55",
   "metadata": {},
   "outputs": [],
   "source": [
    "# Folder Path\n",
    "path = r'C:\\Users\\jrper\\OneDrive\\Documents\\Career Foundry Data Analytics Program\\Achievement 6'"
   ]
  },
  {
   "cell_type": "code",
   "execution_count": 4,
   "id": "8bae5dbe",
   "metadata": {},
   "outputs": [],
   "source": [
    "# Import trips_merged_cleaned2.csv\n",
    "df_trips = pd.read_csv(os.path.join(path, '02 Data', 'Prepared Data', 'trips_wrangled_no_outliers2.csv'), index_col = False)"
   ]
  },
  {
   "cell_type": "markdown",
   "id": "dad0e203",
   "metadata": {},
   "source": [
    "# 03. Explore Data"
   ]
  },
  {
   "cell_type": "code",
   "execution_count": 5,
   "id": "b8fd5255",
   "metadata": {},
   "outputs": [
    {
     "data": {
      "text/html": [
       "<div>\n",
       "<style scoped>\n",
       "    .dataframe tbody tr th:only-of-type {\n",
       "        vertical-align: middle;\n",
       "    }\n",
       "\n",
       "    .dataframe tbody tr th {\n",
       "        vertical-align: top;\n",
       "    }\n",
       "\n",
       "    .dataframe thead th {\n",
       "        text-align: right;\n",
       "    }\n",
       "</style>\n",
       "<table border=\"1\" class=\"dataframe\">\n",
       "  <thead>\n",
       "    <tr style=\"text-align: right;\">\n",
       "      <th></th>\n",
       "      <th>Unnamed: 0</th>\n",
       "      <th>tripduration</th>\n",
       "      <th>starttime</th>\n",
       "      <th>stoptime</th>\n",
       "      <th>start station id</th>\n",
       "      <th>start station name</th>\n",
       "      <th>start station latitude</th>\n",
       "      <th>start station longitude</th>\n",
       "      <th>end station id</th>\n",
       "      <th>end station name</th>\n",
       "      <th>...</th>\n",
       "      <th>weekday_stoptime</th>\n",
       "      <th>month_name_starttime</th>\n",
       "      <th>month_name_stoptime</th>\n",
       "      <th>hour_starttime</th>\n",
       "      <th>hour_stoptime</th>\n",
       "      <th>customer_age</th>\n",
       "      <th>starttime_counts</th>\n",
       "      <th>tripduration_minutes</th>\n",
       "      <th>tripduration_hours</th>\n",
       "      <th>tripduration_buckets</th>\n",
       "    </tr>\n",
       "  </thead>\n",
       "  <tbody>\n",
       "    <tr>\n",
       "      <th>0</th>\n",
       "      <td>0</td>\n",
       "      <td>226</td>\n",
       "      <td>2020-01-01 00:04:50.192</td>\n",
       "      <td>2020-01-01 00:08:37.037</td>\n",
       "      <td>3186</td>\n",
       "      <td>Grove St PATH</td>\n",
       "      <td>40.719586</td>\n",
       "      <td>-74.043117</td>\n",
       "      <td>3211</td>\n",
       "      <td>Newark Ave</td>\n",
       "      <td>...</td>\n",
       "      <td>Wednesday</td>\n",
       "      <td>January</td>\n",
       "      <td>January</td>\n",
       "      <td>0</td>\n",
       "      <td>0</td>\n",
       "      <td>36</td>\n",
       "      <td>25629</td>\n",
       "      <td>3.766667</td>\n",
       "      <td>0.062778</td>\n",
       "      <td>10 minutes or less</td>\n",
       "    </tr>\n",
       "    <tr>\n",
       "      <th>1</th>\n",
       "      <td>1</td>\n",
       "      <td>377</td>\n",
       "      <td>2020-01-01 00:16:01.670</td>\n",
       "      <td>2020-01-01 00:22:19.080</td>\n",
       "      <td>3186</td>\n",
       "      <td>Grove St PATH</td>\n",
       "      <td>40.719586</td>\n",
       "      <td>-74.043117</td>\n",
       "      <td>3269</td>\n",
       "      <td>Brunswick &amp; 6th</td>\n",
       "      <td>...</td>\n",
       "      <td>Wednesday</td>\n",
       "      <td>January</td>\n",
       "      <td>January</td>\n",
       "      <td>0</td>\n",
       "      <td>0</td>\n",
       "      <td>31</td>\n",
       "      <td>25629</td>\n",
       "      <td>6.283333</td>\n",
       "      <td>0.104722</td>\n",
       "      <td>10 minutes or less</td>\n",
       "    </tr>\n",
       "    <tr>\n",
       "      <th>2</th>\n",
       "      <td>2</td>\n",
       "      <td>288</td>\n",
       "      <td>2020-01-01 00:17:33.877</td>\n",
       "      <td>2020-01-01 00:22:22.442</td>\n",
       "      <td>3186</td>\n",
       "      <td>Grove St PATH</td>\n",
       "      <td>40.719586</td>\n",
       "      <td>-74.043117</td>\n",
       "      <td>3269</td>\n",
       "      <td>Brunswick &amp; 6th</td>\n",
       "      <td>...</td>\n",
       "      <td>Wednesday</td>\n",
       "      <td>January</td>\n",
       "      <td>January</td>\n",
       "      <td>0</td>\n",
       "      <td>0</td>\n",
       "      <td>31</td>\n",
       "      <td>25629</td>\n",
       "      <td>4.800000</td>\n",
       "      <td>0.080000</td>\n",
       "      <td>10 minutes or less</td>\n",
       "    </tr>\n",
       "    <tr>\n",
       "      <th>3</th>\n",
       "      <td>3</td>\n",
       "      <td>435</td>\n",
       "      <td>2020-01-01 00:32:05.902</td>\n",
       "      <td>2020-01-01 00:39:21.066</td>\n",
       "      <td>3195</td>\n",
       "      <td>Sip Ave</td>\n",
       "      <td>40.730897</td>\n",
       "      <td>-74.063913</td>\n",
       "      <td>3280</td>\n",
       "      <td>Astor Place</td>\n",
       "      <td>...</td>\n",
       "      <td>Wednesday</td>\n",
       "      <td>January</td>\n",
       "      <td>January</td>\n",
       "      <td>0</td>\n",
       "      <td>0</td>\n",
       "      <td>51</td>\n",
       "      <td>15767</td>\n",
       "      <td>7.250000</td>\n",
       "      <td>0.120833</td>\n",
       "      <td>10 minutes or less</td>\n",
       "    </tr>\n",
       "    <tr>\n",
       "      <th>4</th>\n",
       "      <td>4</td>\n",
       "      <td>231</td>\n",
       "      <td>2020-01-01 00:46:19.678</td>\n",
       "      <td>2020-01-01 00:50:11.344</td>\n",
       "      <td>3186</td>\n",
       "      <td>Grove St PATH</td>\n",
       "      <td>40.719586</td>\n",
       "      <td>-74.043117</td>\n",
       "      <td>3276</td>\n",
       "      <td>Marin Light Rail</td>\n",
       "      <td>...</td>\n",
       "      <td>Wednesday</td>\n",
       "      <td>January</td>\n",
       "      <td>January</td>\n",
       "      <td>0</td>\n",
       "      <td>0</td>\n",
       "      <td>37</td>\n",
       "      <td>25629</td>\n",
       "      <td>3.850000</td>\n",
       "      <td>0.064167</td>\n",
       "      <td>10 minutes or less</td>\n",
       "    </tr>\n",
       "  </tbody>\n",
       "</table>\n",
       "<p>5 rows × 33 columns</p>\n",
       "</div>"
      ],
      "text/plain": [
       "   Unnamed: 0  tripduration                starttime                 stoptime  \\\n",
       "0           0           226  2020-01-01 00:04:50.192  2020-01-01 00:08:37.037   \n",
       "1           1           377  2020-01-01 00:16:01.670  2020-01-01 00:22:19.080   \n",
       "2           2           288  2020-01-01 00:17:33.877  2020-01-01 00:22:22.442   \n",
       "3           3           435  2020-01-01 00:32:05.902  2020-01-01 00:39:21.066   \n",
       "4           4           231  2020-01-01 00:46:19.678  2020-01-01 00:50:11.344   \n",
       "\n",
       "   start station id start station name  start station latitude  \\\n",
       "0              3186      Grove St PATH               40.719586   \n",
       "1              3186      Grove St PATH               40.719586   \n",
       "2              3186      Grove St PATH               40.719586   \n",
       "3              3195            Sip Ave               40.730897   \n",
       "4              3186      Grove St PATH               40.719586   \n",
       "\n",
       "   start station longitude  end station id  end station name  ...  \\\n",
       "0               -74.043117            3211        Newark Ave  ...   \n",
       "1               -74.043117            3269   Brunswick & 6th  ...   \n",
       "2               -74.043117            3269   Brunswick & 6th  ...   \n",
       "3               -74.063913            3280       Astor Place  ...   \n",
       "4               -74.043117            3276  Marin Light Rail  ...   \n",
       "\n",
       "   weekday_stoptime  month_name_starttime  month_name_stoptime hour_starttime  \\\n",
       "0         Wednesday               January              January              0   \n",
       "1         Wednesday               January              January              0   \n",
       "2         Wednesday               January              January              0   \n",
       "3         Wednesday               January              January              0   \n",
       "4         Wednesday               January              January              0   \n",
       "\n",
       "   hour_stoptime customer_age  starttime_counts  tripduration_minutes  \\\n",
       "0              0           36             25629              3.766667   \n",
       "1              0           31             25629              6.283333   \n",
       "2              0           31             25629              4.800000   \n",
       "3              0           51             15767              7.250000   \n",
       "4              0           37             25629              3.850000   \n",
       "\n",
       "   tripduration_hours  tripduration_buckets  \n",
       "0            0.062778    10 minutes or less  \n",
       "1            0.104722    10 minutes or less  \n",
       "2            0.080000    10 minutes or less  \n",
       "3            0.120833    10 minutes or less  \n",
       "4            0.064167    10 minutes or less  \n",
       "\n",
       "[5 rows x 33 columns]"
      ]
     },
     "execution_count": 5,
     "metadata": {},
     "output_type": "execute_result"
    }
   ],
   "source": [
    "# View first 5 rows for df_trips\n",
    "df_trips.head()"
   ]
  },
  {
   "cell_type": "code",
   "execution_count": 6,
   "id": "db27928b",
   "metadata": {},
   "outputs": [],
   "source": [
    "# Drop 'Unnamed: 0' column\n",
    "df_trips.drop(columns = ['Unnamed: 0'], inplace = True)"
   ]
  },
  {
   "cell_type": "code",
   "execution_count": 7,
   "id": "f8346b16",
   "metadata": {},
   "outputs": [
    {
     "data": {
      "text/plain": [
       "(379861, 32)"
      ]
     },
     "execution_count": 7,
     "metadata": {},
     "output_type": "execute_result"
    }
   ],
   "source": [
    "df_trips.shape"
   ]
  },
  {
   "cell_type": "code",
   "execution_count": 8,
   "id": "3e8e314f",
   "metadata": {},
   "outputs": [
    {
     "data": {
      "text/plain": [
       "Index(['tripduration', 'starttime', 'stoptime', 'start station id',\n",
       "       'start station name', 'start station latitude',\n",
       "       'start station longitude', 'end station id', 'end station name',\n",
       "       'end station latitude', 'end station longitude', 'bikeid', 'usertype',\n",
       "       'birth year', 'gender', 'day_of_month_starttime', 'month_starttime',\n",
       "       'year_starttime', 'day_of_month_stoptime', 'month_stoptime',\n",
       "       'year_stoptime', 'weekday_starttime', 'weekday_stoptime',\n",
       "       'month_name_starttime', 'month_name_stoptime', 'hour_starttime',\n",
       "       'hour_stoptime', 'customer_age', 'starttime_counts',\n",
       "       'tripduration_minutes', 'tripduration_hours', 'tripduration_buckets'],\n",
       "      dtype='object')"
      ]
     },
     "execution_count": 8,
     "metadata": {},
     "output_type": "execute_result"
    }
   ],
   "source": [
    "df_trips.columns"
   ]
  },
  {
   "cell_type": "code",
   "execution_count": 9,
   "id": "2be41e98",
   "metadata": {},
   "outputs": [
    {
     "data": {
      "text/html": [
       "<div>\n",
       "<style scoped>\n",
       "    .dataframe tbody tr th:only-of-type {\n",
       "        vertical-align: middle;\n",
       "    }\n",
       "\n",
       "    .dataframe tbody tr th {\n",
       "        vertical-align: top;\n",
       "    }\n",
       "\n",
       "    .dataframe thead th {\n",
       "        text-align: right;\n",
       "    }\n",
       "</style>\n",
       "<table border=\"1\" class=\"dataframe\">\n",
       "  <thead>\n",
       "    <tr style=\"text-align: right;\">\n",
       "      <th></th>\n",
       "      <th>tripduration</th>\n",
       "      <th>start station id</th>\n",
       "      <th>start station latitude</th>\n",
       "      <th>start station longitude</th>\n",
       "      <th>end station id</th>\n",
       "      <th>end station latitude</th>\n",
       "      <th>end station longitude</th>\n",
       "      <th>bikeid</th>\n",
       "      <th>birth year</th>\n",
       "      <th>day_of_month_starttime</th>\n",
       "      <th>...</th>\n",
       "      <th>year_starttime</th>\n",
       "      <th>day_of_month_stoptime</th>\n",
       "      <th>month_stoptime</th>\n",
       "      <th>year_stoptime</th>\n",
       "      <th>hour_starttime</th>\n",
       "      <th>hour_stoptime</th>\n",
       "      <th>customer_age</th>\n",
       "      <th>starttime_counts</th>\n",
       "      <th>tripduration_minutes</th>\n",
       "      <th>tripduration_hours</th>\n",
       "    </tr>\n",
       "  </thead>\n",
       "  <tbody>\n",
       "    <tr>\n",
       "      <th>count</th>\n",
       "      <td>379861.000000</td>\n",
       "      <td>379861.000000</td>\n",
       "      <td>379861.000000</td>\n",
       "      <td>379861.000000</td>\n",
       "      <td>379861.000000</td>\n",
       "      <td>379861.000000</td>\n",
       "      <td>379861.000000</td>\n",
       "      <td>379861.000000</td>\n",
       "      <td>379861.000000</td>\n",
       "      <td>379861.000000</td>\n",
       "      <td>...</td>\n",
       "      <td>379861.000000</td>\n",
       "      <td>379861.000000</td>\n",
       "      <td>379861.000000</td>\n",
       "      <td>379861.000000</td>\n",
       "      <td>379861.000000</td>\n",
       "      <td>379861.000000</td>\n",
       "      <td>379861.000000</td>\n",
       "      <td>379861.000000</td>\n",
       "      <td>379861.000000</td>\n",
       "      <td>379861.000000</td>\n",
       "    </tr>\n",
       "    <tr>\n",
       "      <th>mean</th>\n",
       "      <td>1226.015948</td>\n",
       "      <td>3304.053222</td>\n",
       "      <td>40.722255</td>\n",
       "      <td>-74.046816</td>\n",
       "      <td>3302.678248</td>\n",
       "      <td>40.721792</td>\n",
       "      <td>-74.046022</td>\n",
       "      <td>40731.378309</td>\n",
       "      <td>1980.031030</td>\n",
       "      <td>15.737114</td>\n",
       "      <td>...</td>\n",
       "      <td>2020.148765</td>\n",
       "      <td>15.738991</td>\n",
       "      <td>6.132717</td>\n",
       "      <td>2020.148775</td>\n",
       "      <td>14.539782</td>\n",
       "      <td>14.689505</td>\n",
       "      <td>40.117735</td>\n",
       "      <td>11579.704184</td>\n",
       "      <td>20.433599</td>\n",
       "      <td>0.340560</td>\n",
       "    </tr>\n",
       "    <tr>\n",
       "      <th>std</th>\n",
       "      <td>2708.898457</td>\n",
       "      <td>184.555125</td>\n",
       "      <td>0.007361</td>\n",
       "      <td>0.011912</td>\n",
       "      <td>190.013195</td>\n",
       "      <td>0.093728</td>\n",
       "      <td>0.170317</td>\n",
       "      <td>6162.534657</td>\n",
       "      <td>11.011137</td>\n",
       "      <td>8.709838</td>\n",
       "      <td>...</td>\n",
       "      <td>0.355857</td>\n",
       "      <td>8.710478</td>\n",
       "      <td>3.184978</td>\n",
       "      <td>0.355867</td>\n",
       "      <td>5.048504</td>\n",
       "      <td>5.179696</td>\n",
       "      <td>11.113176</td>\n",
       "      <td>6657.892034</td>\n",
       "      <td>45.148308</td>\n",
       "      <td>0.752472</td>\n",
       "    </tr>\n",
       "    <tr>\n",
       "      <th>min</th>\n",
       "      <td>61.000000</td>\n",
       "      <td>3184.000000</td>\n",
       "      <td>40.709651</td>\n",
       "      <td>-74.083639</td>\n",
       "      <td>82.000000</td>\n",
       "      <td>0.000000</td>\n",
       "      <td>-74.083639</td>\n",
       "      <td>14531.000000</td>\n",
       "      <td>1920.000000</td>\n",
       "      <td>1.000000</td>\n",
       "      <td>...</td>\n",
       "      <td>2020.000000</td>\n",
       "      <td>1.000000</td>\n",
       "      <td>1.000000</td>\n",
       "      <td>2020.000000</td>\n",
       "      <td>0.000000</td>\n",
       "      <td>0.000000</td>\n",
       "      <td>16.000000</td>\n",
       "      <td>1.000000</td>\n",
       "      <td>1.016667</td>\n",
       "      <td>0.016944</td>\n",
       "    </tr>\n",
       "    <tr>\n",
       "      <th>25%</th>\n",
       "      <td>322.000000</td>\n",
       "      <td>3195.000000</td>\n",
       "      <td>40.716870</td>\n",
       "      <td>-74.051789</td>\n",
       "      <td>3195.000000</td>\n",
       "      <td>40.716870</td>\n",
       "      <td>-74.050656</td>\n",
       "      <td>42124.000000</td>\n",
       "      <td>1970.000000</td>\n",
       "      <td>8.000000</td>\n",
       "      <td>...</td>\n",
       "      <td>2020.000000</td>\n",
       "      <td>8.000000</td>\n",
       "      <td>3.000000</td>\n",
       "      <td>2020.000000</td>\n",
       "      <td>11.000000</td>\n",
       "      <td>11.000000</td>\n",
       "      <td>31.000000</td>\n",
       "      <td>6035.000000</td>\n",
       "      <td>5.366667</td>\n",
       "      <td>0.089444</td>\n",
       "    </tr>\n",
       "    <tr>\n",
       "      <th>50%</th>\n",
       "      <td>600.000000</td>\n",
       "      <td>3209.000000</td>\n",
       "      <td>40.721124</td>\n",
       "      <td>-74.043991</td>\n",
       "      <td>3209.000000</td>\n",
       "      <td>40.721124</td>\n",
       "      <td>-74.043845</td>\n",
       "      <td>42376.000000</td>\n",
       "      <td>1982.000000</td>\n",
       "      <td>16.000000</td>\n",
       "      <td>...</td>\n",
       "      <td>2020.000000</td>\n",
       "      <td>16.000000</td>\n",
       "      <td>6.000000</td>\n",
       "      <td>2020.000000</td>\n",
       "      <td>15.000000</td>\n",
       "      <td>16.000000</td>\n",
       "      <td>38.000000</td>\n",
       "      <td>10489.000000</td>\n",
       "      <td>10.000000</td>\n",
       "      <td>0.166667</td>\n",
       "    </tr>\n",
       "    <tr>\n",
       "      <th>75%</th>\n",
       "      <td>1366.000000</td>\n",
       "      <td>3276.000000</td>\n",
       "      <td>40.727224</td>\n",
       "      <td>-74.038051</td>\n",
       "      <td>3276.000000</td>\n",
       "      <td>40.727224</td>\n",
       "      <td>-74.037683</td>\n",
       "      <td>44228.000000</td>\n",
       "      <td>1989.000000</td>\n",
       "      <td>23.000000</td>\n",
       "      <td>...</td>\n",
       "      <td>2020.000000</td>\n",
       "      <td>23.000000</td>\n",
       "      <td>9.000000</td>\n",
       "      <td>2020.000000</td>\n",
       "      <td>18.000000</td>\n",
       "      <td>19.000000</td>\n",
       "      <td>51.000000</td>\n",
       "      <td>15767.000000</td>\n",
       "      <td>22.766667</td>\n",
       "      <td>0.379444</td>\n",
       "    </tr>\n",
       "    <tr>\n",
       "      <th>max</th>\n",
       "      <td>86392.000000</td>\n",
       "      <td>3792.000000</td>\n",
       "      <td>40.748716</td>\n",
       "      <td>-74.032108</td>\n",
       "      <td>4282.000000</td>\n",
       "      <td>40.848282</td>\n",
       "      <td>0.000000</td>\n",
       "      <td>55298.000000</td>\n",
       "      <td>2004.000000</td>\n",
       "      <td>31.000000</td>\n",
       "      <td>...</td>\n",
       "      <td>2021.000000</td>\n",
       "      <td>31.000000</td>\n",
       "      <td>12.000000</td>\n",
       "      <td>2021.000000</td>\n",
       "      <td>23.000000</td>\n",
       "      <td>23.000000</td>\n",
       "      <td>100.000000</td>\n",
       "      <td>25629.000000</td>\n",
       "      <td>1439.866667</td>\n",
       "      <td>23.997778</td>\n",
       "    </tr>\n",
       "  </tbody>\n",
       "</table>\n",
       "<p>8 rows × 21 columns</p>\n",
       "</div>"
      ],
      "text/plain": [
       "        tripduration  start station id  start station latitude  \\\n",
       "count  379861.000000     379861.000000           379861.000000   \n",
       "mean     1226.015948       3304.053222               40.722255   \n",
       "std      2708.898457        184.555125                0.007361   \n",
       "min        61.000000       3184.000000               40.709651   \n",
       "25%       322.000000       3195.000000               40.716870   \n",
       "50%       600.000000       3209.000000               40.721124   \n",
       "75%      1366.000000       3276.000000               40.727224   \n",
       "max     86392.000000       3792.000000               40.748716   \n",
       "\n",
       "       start station longitude  end station id  end station latitude  \\\n",
       "count            379861.000000   379861.000000         379861.000000   \n",
       "mean                -74.046816     3302.678248             40.721792   \n",
       "std                   0.011912      190.013195              0.093728   \n",
       "min                 -74.083639       82.000000              0.000000   \n",
       "25%                 -74.051789     3195.000000             40.716870   \n",
       "50%                 -74.043991     3209.000000             40.721124   \n",
       "75%                 -74.038051     3276.000000             40.727224   \n",
       "max                 -74.032108     4282.000000             40.848282   \n",
       "\n",
       "       end station longitude         bikeid     birth year  \\\n",
       "count          379861.000000  379861.000000  379861.000000   \n",
       "mean              -74.046022   40731.378309    1980.031030   \n",
       "std                 0.170317    6162.534657      11.011137   \n",
       "min               -74.083639   14531.000000    1920.000000   \n",
       "25%               -74.050656   42124.000000    1970.000000   \n",
       "50%               -74.043845   42376.000000    1982.000000   \n",
       "75%               -74.037683   44228.000000    1989.000000   \n",
       "max                 0.000000   55298.000000    2004.000000   \n",
       "\n",
       "       day_of_month_starttime  ...  year_starttime  day_of_month_stoptime  \\\n",
       "count           379861.000000  ...   379861.000000          379861.000000   \n",
       "mean                15.737114  ...     2020.148765              15.738991   \n",
       "std                  8.709838  ...        0.355857               8.710478   \n",
       "min                  1.000000  ...     2020.000000               1.000000   \n",
       "25%                  8.000000  ...     2020.000000               8.000000   \n",
       "50%                 16.000000  ...     2020.000000              16.000000   \n",
       "75%                 23.000000  ...     2020.000000              23.000000   \n",
       "max                 31.000000  ...     2021.000000              31.000000   \n",
       "\n",
       "       month_stoptime  year_stoptime  hour_starttime  hour_stoptime  \\\n",
       "count   379861.000000  379861.000000   379861.000000  379861.000000   \n",
       "mean         6.132717    2020.148775       14.539782      14.689505   \n",
       "std          3.184978       0.355867        5.048504       5.179696   \n",
       "min          1.000000    2020.000000        0.000000       0.000000   \n",
       "25%          3.000000    2020.000000       11.000000      11.000000   \n",
       "50%          6.000000    2020.000000       15.000000      16.000000   \n",
       "75%          9.000000    2020.000000       18.000000      19.000000   \n",
       "max         12.000000    2021.000000       23.000000      23.000000   \n",
       "\n",
       "        customer_age  starttime_counts  tripduration_minutes  \\\n",
       "count  379861.000000     379861.000000         379861.000000   \n",
       "mean       40.117735      11579.704184             20.433599   \n",
       "std        11.113176       6657.892034             45.148308   \n",
       "min        16.000000          1.000000              1.016667   \n",
       "25%        31.000000       6035.000000              5.366667   \n",
       "50%        38.000000      10489.000000             10.000000   \n",
       "75%        51.000000      15767.000000             22.766667   \n",
       "max       100.000000      25629.000000           1439.866667   \n",
       "\n",
       "       tripduration_hours  \n",
       "count       379861.000000  \n",
       "mean             0.340560  \n",
       "std              0.752472  \n",
       "min              0.016944  \n",
       "25%              0.089444  \n",
       "50%              0.166667  \n",
       "75%              0.379444  \n",
       "max             23.997778  \n",
       "\n",
       "[8 rows x 21 columns]"
      ]
     },
     "execution_count": 9,
     "metadata": {},
     "output_type": "execute_result"
    }
   ],
   "source": [
    "df_trips.describe()"
   ]
  },
  {
   "cell_type": "code",
   "execution_count": 10,
   "id": "2141b6dc",
   "metadata": {},
   "outputs": [
    {
     "data": {
      "text/plain": [
       "tripduration               0\n",
       "starttime                  0\n",
       "stoptime                   0\n",
       "start station id           0\n",
       "start station name         0\n",
       "start station latitude     0\n",
       "start station longitude    0\n",
       "end station id             0\n",
       "end station name           0\n",
       "end station latitude       0\n",
       "end station longitude      0\n",
       "bikeid                     0\n",
       "usertype                   0\n",
       "birth year                 0\n",
       "gender                     0\n",
       "day_of_month_starttime     0\n",
       "month_starttime            0\n",
       "year_starttime             0\n",
       "day_of_month_stoptime      0\n",
       "month_stoptime             0\n",
       "year_stoptime              0\n",
       "weekday_starttime          0\n",
       "weekday_stoptime           0\n",
       "month_name_starttime       0\n",
       "month_name_stoptime        0\n",
       "hour_starttime             0\n",
       "hour_stoptime              0\n",
       "customer_age               0\n",
       "starttime_counts           0\n",
       "tripduration_minutes       0\n",
       "tripduration_hours         0\n",
       "tripduration_buckets       0\n",
       "dtype: int64"
      ]
     },
     "execution_count": 10,
     "metadata": {},
     "output_type": "execute_result"
    }
   ],
   "source": [
    "df_trips.isnull().sum()"
   ]
  },
  {
   "cell_type": "markdown",
   "id": "1372cf0f",
   "metadata": {},
   "source": [
    "#### Observations: Data is as expected."
   ]
  },
  {
   "cell_type": "markdown",
   "id": "cc382870",
   "metadata": {},
   "source": [
    "# 04. Data Preparation for Regression Analysis"
   ]
  },
  {
   "cell_type": "code",
   "execution_count": 11,
   "id": "e0f9a844",
   "metadata": {},
   "outputs": [
    {
     "data": {
      "image/png": "[encoded data removed]",
      "text/plain": [
       "<Figure size 640x480 with 1 Axes>"
      ]
     },
     "metadata": {},
     "output_type": "display_data"
    }
   ],
   "source": [
    "# Create scatterplot for 'customer_age' and 'tripduration_minutes'\n",
    "df_trips.plot(x = 'customer_age', y='tripduration_minutes',style='o') \n",
    "plt.title('Customer Age vs Trip Duration')  \n",
    "plt.xlabel('Customer Age')  \n",
    "plt.ylabel('Trip Duration Minutes')  \n",
    "plt.show()"
   ]
  },
  {
   "cell_type": "markdown",
   "id": "27da9042",
   "metadata": {},
   "source": [
    "#### Hypothesis: Customers aged 60 and younger take longer trips."
   ]
  },
  {
   "cell_type": "code",
   "execution_count": 12,
   "id": "7399f237",
   "metadata": {},
   "outputs": [],
   "source": [
    "# Reshape variables into Numpy arrays and put into separate objects\n",
    "X = df_trips['customer_age'].values.reshape(-1,1)\n",
    "y = df_trips['tripduration_minutes'].values.reshape(-1,1)"
   ]
  },
  {
   "cell_type": "code",
   "execution_count": 13,
   "id": "73e29ec2",
   "metadata": {},
   "outputs": [
    {
     "data": {
      "text/plain": [
       "array([[36],\n",
       "       [31],\n",
       "       [31],\n",
       "       ...,\n",
       "       [51],\n",
       "       [51],\n",
       "       [51]], dtype=int64)"
      ]
     },
     "execution_count": 13,
     "metadata": {},
     "output_type": "execute_result"
    }
   ],
   "source": [
    "# View array for independent variable\n",
    "X"
   ]
  },
  {
   "cell_type": "code",
   "execution_count": 14,
   "id": "f9b931a9",
   "metadata": {},
   "outputs": [
    {
     "data": {
      "text/plain": [
       "array([[ 3.76666667],\n",
       "       [ 6.28333333],\n",
       "       [ 4.8       ],\n",
       "       ...,\n",
       "       [14.61666667],\n",
       "       [ 2.88333333],\n",
       "       [ 2.9       ]])"
      ]
     },
     "execution_count": 14,
     "metadata": {},
     "output_type": "execute_result"
    }
   ],
   "source": [
    "# View array for dependent variable\n",
    "y"
   ]
  },
  {
   "cell_type": "code",
   "execution_count": 15,
   "id": "9d679992",
   "metadata": {},
   "outputs": [],
   "source": [
    "# Split data into train set and test set\n",
    "X_train, X_test, y_train, y_test = train_test_split(X, y, test_size=0.3, random_state=0)"
   ]
  },
  {
   "cell_type": "markdown",
   "id": "455116d2",
   "metadata": {},
   "source": [
    "# 05. Regression Analysis"
   ]
  },
  {
   "cell_type": "code",
   "execution_count": 16,
   "id": "58fbfd63",
   "metadata": {},
   "outputs": [],
   "source": [
    "# Create regression object\n",
    "regression = LinearRegression()"
   ]
  },
  {
   "cell_type": "code",
   "execution_count": 17,
   "id": "40ebcaec",
   "metadata": {},
   "outputs": [
    {
     "data": {
      "text/plain": [
       "LinearRegression()"
      ]
     },
     "execution_count": 17,
     "metadata": {},
     "output_type": "execute_result"
    }
   ],
   "source": [
    "# Fit regression object onto training set\n",
    "regression.fit(X_train, y_train)"
   ]
  },
  {
   "cell_type": "code",
   "execution_count": 18,
   "id": "a7a31665",
   "metadata": {},
   "outputs": [],
   "source": [
    "# Predict values of y using X\n",
    "y_predicted = regression.predict(X_test)"
   ]
  },
  {
   "cell_type": "code",
   "execution_count": 19,
   "id": "f583c6bb",
   "metadata": {},
   "outputs": [
    {
     "data": {
      "image/png": "[encoded data removed]",
      "text/plain": [
       "<Figure size 640x480 with 1 Axes>"
      ]
     },
     "metadata": {},
     "output_type": "display_data"
    }
   ],
   "source": [
    "# Create Plot that shows regression line from model on test set\n",
    "plot_test = plt\n",
    "plot_test.scatter(X_test, y_test, color='gray', s = 15)\n",
    "plot_test.plot(X_test, y_predicted, color='red', linewidth =3)\n",
    "plot_test.title('Customer Age vs Trip Duration Minutes (Test set)')\n",
    "plot_test.xlabel('Customer Age')\n",
    "plot_test.ylabel('Trip Duration Minutes')\n",
    "plot_test.show()"
   ]
  },
  {
   "cell_type": "markdown",
   "id": "5ae06bae",
   "metadata": {},
   "source": [
    "#### Observations: The regression line is horizontal, which means that there is no relationship between the variables 'Customer Age' and 'Trip Duration'."
   ]
  },
  {
   "cell_type": "code",
   "execution_count": 20,
   "id": "1cc4f2de",
   "metadata": {},
   "outputs": [],
   "source": [
    "# Create objects containing model summary statistics\n",
    "rmse = mean_squared_error(y_test, y_predicted) # Mean Squared Error (MSE)\n",
    "r2 = r2_score(y_test, y_predicted) # R2 score. "
   ]
  },
  {
   "cell_type": "code",
   "execution_count": 21,
   "id": "67d768f8",
   "metadata": {},
   "outputs": [
    {
     "name": "stdout",
     "output_type": "stream",
     "text": [
      "Slope: [[0.10000638]]\n",
      "Mean squared error:  1978.484437942943\n",
      "R2 score:  0.0006457543481072081\n"
     ]
    }
   ],
   "source": [
    "# Print model summary statistics\n",
    "print('Slope:' ,regression.coef_)\n",
    "print('Mean squared error: ', rmse)\n",
    "print('R2 score: ', r2)"
   ]
  },
  {
   "cell_type": "markdown",
   "id": "fcfe7dbc",
   "metadata": {},
   "source": [
    "#### Observations: Statistics confirm lack of a relationship between 'Customer Age' and 'Trip Duration'."
   ]
  },
  {
   "cell_type": "code",
   "execution_count": 22,
   "id": "955c4dbb",
   "metadata": {},
   "outputs": [
    {
     "data": {
      "text/plain": [
       "array([[21.57486036],\n",
       "       [19.37471991],\n",
       "       [20.27477737],\n",
       "       ...,\n",
       "       [18.37465607],\n",
       "       [21.57486036],\n",
       "       [19.57473268]])"
      ]
     },
     "execution_count": 22,
     "metadata": {},
     "output_type": "execute_result"
    }
   ],
   "source": [
    "# View array for y_predicted\n",
    "y_predicted"
   ]
  },
  {
   "cell_type": "code",
   "execution_count": 23,
   "id": "a5fa013f",
   "metadata": {},
   "outputs": [
    {
     "data": {
      "text/html": [
       "<div>\n",
       "<style scoped>\n",
       "    .dataframe tbody tr th:only-of-type {\n",
       "        vertical-align: middle;\n",
       "    }\n",
       "\n",
       "    .dataframe tbody tr th {\n",
       "        vertical-align: top;\n",
       "    }\n",
       "\n",
       "    .dataframe thead th {\n",
       "        text-align: right;\n",
       "    }\n",
       "</style>\n",
       "<table border=\"1\" class=\"dataframe\">\n",
       "  <thead>\n",
       "    <tr style=\"text-align: right;\">\n",
       "      <th></th>\n",
       "      <th>Actual</th>\n",
       "      <th>Predicted</th>\n",
       "    </tr>\n",
       "  </thead>\n",
       "  <tbody>\n",
       "    <tr>\n",
       "      <th>0</th>\n",
       "      <td>2.150000</td>\n",
       "      <td>21.574860</td>\n",
       "    </tr>\n",
       "    <tr>\n",
       "      <th>1</th>\n",
       "      <td>11.750000</td>\n",
       "      <td>19.374720</td>\n",
       "    </tr>\n",
       "    <tr>\n",
       "      <th>2</th>\n",
       "      <td>6.750000</td>\n",
       "      <td>20.274777</td>\n",
       "    </tr>\n",
       "    <tr>\n",
       "      <th>3</th>\n",
       "      <td>16.566667</td>\n",
       "      <td>20.874816</td>\n",
       "    </tr>\n",
       "    <tr>\n",
       "      <th>4</th>\n",
       "      <td>5.733333</td>\n",
       "      <td>21.574860</td>\n",
       "    </tr>\n",
       "    <tr>\n",
       "      <th>5</th>\n",
       "      <td>9.533333</td>\n",
       "      <td>21.574860</td>\n",
       "    </tr>\n",
       "    <tr>\n",
       "      <th>6</th>\n",
       "      <td>3.083333</td>\n",
       "      <td>20.974822</td>\n",
       "    </tr>\n",
       "    <tr>\n",
       "      <th>7</th>\n",
       "      <td>29.266667</td>\n",
       "      <td>19.074701</td>\n",
       "    </tr>\n",
       "    <tr>\n",
       "      <th>8</th>\n",
       "      <td>9.083333</td>\n",
       "      <td>21.574860</td>\n",
       "    </tr>\n",
       "    <tr>\n",
       "      <th>9</th>\n",
       "      <td>1.400000</td>\n",
       "      <td>21.574860</td>\n",
       "    </tr>\n",
       "    <tr>\n",
       "      <th>10</th>\n",
       "      <td>5.083333</td>\n",
       "      <td>20.874816</td>\n",
       "    </tr>\n",
       "    <tr>\n",
       "      <th>11</th>\n",
       "      <td>24.383333</td>\n",
       "      <td>20.574797</td>\n",
       "    </tr>\n",
       "    <tr>\n",
       "      <th>12</th>\n",
       "      <td>41.333333</td>\n",
       "      <td>19.974758</td>\n",
       "    </tr>\n",
       "    <tr>\n",
       "      <th>13</th>\n",
       "      <td>6.633333</td>\n",
       "      <td>20.074765</td>\n",
       "    </tr>\n",
       "    <tr>\n",
       "      <th>14</th>\n",
       "      <td>8.716667</td>\n",
       "      <td>20.674803</td>\n",
       "    </tr>\n",
       "    <tr>\n",
       "      <th>15</th>\n",
       "      <td>6.433333</td>\n",
       "      <td>19.274714</td>\n",
       "    </tr>\n",
       "    <tr>\n",
       "      <th>16</th>\n",
       "      <td>21.283333</td>\n",
       "      <td>21.674867</td>\n",
       "    </tr>\n",
       "    <tr>\n",
       "      <th>17</th>\n",
       "      <td>8.133333</td>\n",
       "      <td>19.474726</td>\n",
       "    </tr>\n",
       "    <tr>\n",
       "      <th>18</th>\n",
       "      <td>7.316667</td>\n",
       "      <td>19.374720</td>\n",
       "    </tr>\n",
       "    <tr>\n",
       "      <th>19</th>\n",
       "      <td>4.866667</td>\n",
       "      <td>19.674739</td>\n",
       "    </tr>\n",
       "    <tr>\n",
       "      <th>20</th>\n",
       "      <td>5.516667</td>\n",
       "      <td>19.174707</td>\n",
       "    </tr>\n",
       "    <tr>\n",
       "      <th>21</th>\n",
       "      <td>37.666667</td>\n",
       "      <td>22.574924</td>\n",
       "    </tr>\n",
       "    <tr>\n",
       "      <th>22</th>\n",
       "      <td>1.850000</td>\n",
       "      <td>20.974822</td>\n",
       "    </tr>\n",
       "    <tr>\n",
       "      <th>23</th>\n",
       "      <td>13.833333</td>\n",
       "      <td>19.674739</td>\n",
       "    </tr>\n",
       "    <tr>\n",
       "      <th>24</th>\n",
       "      <td>5.000000</td>\n",
       "      <td>19.674739</td>\n",
       "    </tr>\n",
       "    <tr>\n",
       "      <th>25</th>\n",
       "      <td>17.666667</td>\n",
       "      <td>18.574669</td>\n",
       "    </tr>\n",
       "    <tr>\n",
       "      <th>26</th>\n",
       "      <td>4.466667</td>\n",
       "      <td>21.274841</td>\n",
       "    </tr>\n",
       "    <tr>\n",
       "      <th>27</th>\n",
       "      <td>2.000000</td>\n",
       "      <td>19.374720</td>\n",
       "    </tr>\n",
       "    <tr>\n",
       "      <th>28</th>\n",
       "      <td>8.850000</td>\n",
       "      <td>19.574733</td>\n",
       "    </tr>\n",
       "    <tr>\n",
       "      <th>29</th>\n",
       "      <td>4.633333</td>\n",
       "      <td>19.274714</td>\n",
       "    </tr>\n",
       "  </tbody>\n",
       "</table>\n",
       "</div>"
      ],
      "text/plain": [
       "       Actual  Predicted\n",
       "0    2.150000  21.574860\n",
       "1   11.750000  19.374720\n",
       "2    6.750000  20.274777\n",
       "3   16.566667  20.874816\n",
       "4    5.733333  21.574860\n",
       "5    9.533333  21.574860\n",
       "6    3.083333  20.974822\n",
       "7   29.266667  19.074701\n",
       "8    9.083333  21.574860\n",
       "9    1.400000  21.574860\n",
       "10   5.083333  20.874816\n",
       "11  24.383333  20.574797\n",
       "12  41.333333  19.974758\n",
       "13   6.633333  20.074765\n",
       "14   8.716667  20.674803\n",
       "15   6.433333  19.274714\n",
       "16  21.283333  21.674867\n",
       "17   8.133333  19.474726\n",
       "18   7.316667  19.374720\n",
       "19   4.866667  19.674739\n",
       "20   5.516667  19.174707\n",
       "21  37.666667  22.574924\n",
       "22   1.850000  20.974822\n",
       "23  13.833333  19.674739\n",
       "24   5.000000  19.674739\n",
       "25  17.666667  18.574669\n",
       "26   4.466667  21.274841\n",
       "27   2.000000  19.374720\n",
       "28   8.850000  19.574733\n",
       "29   4.633333  19.274714"
      ]
     },
     "execution_count": 23,
     "metadata": {},
     "output_type": "execute_result"
    }
   ],
   "source": [
    "# Create a dataframe comparing actual and predicted values of y.\n",
    "data = pd.DataFrame({'Actual': y_test.flatten(), 'Predicted': y_predicted.flatten()})\n",
    "data.head(30)"
   ]
  },
  {
   "cell_type": "markdown",
   "id": "a00771b3",
   "metadata": {},
   "source": [
    "#### Observations: The model performed very poorly on the test set. For the 'customer_age' variable, there are many more records for age 51 than any other age. I don't know why this is the case. One possibility would be that any null or missing values in the age column were replaced with 51. It would be interesting to see a regression if age 51 was excluded from the data set. See sections 07-09 of this script. "
   ]
  },
  {
   "cell_type": "markdown",
   "id": "22514d52",
   "metadata": {},
   "source": [
    "# 06. Compare how Regression fits Training Set"
   ]
  },
  {
   "cell_type": "code",
   "execution_count": 24,
   "id": "82d2916d",
   "metadata": {},
   "outputs": [],
   "source": [
    "# Predict\n",
    "y_predicted_train = regression.predict(X_train) # This is predicting X_train!"
   ]
  },
  {
   "cell_type": "code",
   "execution_count": 25,
   "id": "fddad54f",
   "metadata": {},
   "outputs": [],
   "source": [
    "# Create objects containing summary statistics\n",
    "rmse = mean_squared_error(y_train, y_predicted_train)\n",
    "r2 = r2_score(y_train, y_predicted_train)"
   ]
  },
  {
   "cell_type": "code",
   "execution_count": 26,
   "id": "6f84272b",
   "metadata": {},
   "outputs": [
    {
     "name": "stdout",
     "output_type": "stream",
     "text": [
      "Slope: [[0.10000638]]\n",
      "Mean squared error:  2062.2318698418167\n",
      "R2 score:  0.0005998546107570668\n"
     ]
    }
   ],
   "source": [
    "# Print summary statistics\n",
    "print('Slope:', regression.coef_)\n",
    "print('Mean squared error: ', rmse)\n",
    "print('R2 score: ', r2)"
   ]
  },
  {
   "cell_type": "code",
   "execution_count": 27,
   "id": "5de9fd17",
   "metadata": {},
   "outputs": [
    {
     "data": {
      "image/png": "[encoded data removed]",
      "text/plain": [
       "<Figure size 640x480 with 1 Axes>"
      ]
     },
     "metadata": {},
     "output_type": "display_data"
    }
   ],
   "source": [
    "# Visualizing training set results.\n",
    "\n",
    "plot_test = plt\n",
    "plot_test.scatter(X_train, y_train, color='green', s = 15)\n",
    "plot_test.plot(X_train, y_predicted_train, color='red', linewidth =3)\n",
    "plot_test.title('Customer Age vs Trip Duration Minutes (Train set)')\n",
    "plot_test.xlabel('Customer Age')\n",
    "plot_test.ylabel('Trip Duration Minutes')\n",
    "plot_test.show()"
   ]
  },
  {
   "cell_type": "markdown",
   "id": "d12549e2",
   "metadata": {},
   "source": [
    "# 07. Data Preparation for Regression Analysis without Age 51"
   ]
  },
  {
   "cell_type": "code",
   "execution_count": 28,
   "id": "44e936c1",
   "metadata": {},
   "outputs": [],
   "source": [
    "# Exclude records with age 51\n",
    "df_trips2 = df_trips.loc[df_trips['customer_age'] != 51]"
   ]
  },
  {
   "cell_type": "code",
   "execution_count": 29,
   "id": "43ec6911",
   "metadata": {
    "scrolled": true
   },
   "outputs": [
    {
     "data": {
      "text/html": [
       "<div>\n",
       "<style scoped>\n",
       "    .dataframe tbody tr th:only-of-type {\n",
       "        vertical-align: middle;\n",
       "    }\n",
       "\n",
       "    .dataframe tbody tr th {\n",
       "        vertical-align: top;\n",
       "    }\n",
       "\n",
       "    .dataframe thead th {\n",
       "        text-align: right;\n",
       "    }\n",
       "</style>\n",
       "<table border=\"1\" class=\"dataframe\">\n",
       "  <thead>\n",
       "    <tr style=\"text-align: right;\">\n",
       "      <th></th>\n",
       "      <th>tripduration</th>\n",
       "      <th>starttime</th>\n",
       "      <th>stoptime</th>\n",
       "      <th>start station id</th>\n",
       "      <th>start station name</th>\n",
       "      <th>start station latitude</th>\n",
       "      <th>start station longitude</th>\n",
       "      <th>end station id</th>\n",
       "      <th>end station name</th>\n",
       "      <th>end station latitude</th>\n",
       "      <th>...</th>\n",
       "      <th>weekday_stoptime</th>\n",
       "      <th>month_name_starttime</th>\n",
       "      <th>month_name_stoptime</th>\n",
       "      <th>hour_starttime</th>\n",
       "      <th>hour_stoptime</th>\n",
       "      <th>customer_age</th>\n",
       "      <th>starttime_counts</th>\n",
       "      <th>tripduration_minutes</th>\n",
       "      <th>tripduration_hours</th>\n",
       "      <th>tripduration_buckets</th>\n",
       "    </tr>\n",
       "  </thead>\n",
       "  <tbody>\n",
       "  </tbody>\n",
       "</table>\n",
       "<p>0 rows × 32 columns</p>\n",
       "</div>"
      ],
      "text/plain": [
       "Empty DataFrame\n",
       "Columns: [tripduration, starttime, stoptime, start station id, start station name, start station latitude, start station longitude, end station id, end station name, end station latitude, end station longitude, bikeid, usertype, birth year, gender, day_of_month_starttime, month_starttime, year_starttime, day_of_month_stoptime, month_stoptime, year_stoptime, weekday_starttime, weekday_stoptime, month_name_starttime, month_name_stoptime, hour_starttime, hour_stoptime, customer_age, starttime_counts, tripduration_minutes, tripduration_hours, tripduration_buckets]\n",
       "Index: []\n",
       "\n",
       "[0 rows x 32 columns]"
      ]
     },
     "execution_count": 29,
     "metadata": {},
     "output_type": "execute_result"
    }
   ],
   "source": [
    "# Ensure that records were excluded\n",
    "df_trips2.loc[df_trips2['customer_age'] == 51]"
   ]
  },
  {
   "cell_type": "code",
   "execution_count": 30,
   "id": "f6fa9c45",
   "metadata": {},
   "outputs": [
    {
     "data": {
      "image/png": "[encoded data removed]",
      "text/plain": [
       "<Figure size 640x480 with 1 Axes>"
      ]
     },
     "metadata": {},
     "output_type": "display_data"
    }
   ],
   "source": [
    "# Create scatterplot for 'customer_age' and 'tripduration_minutes'\n",
    "df_trips2.plot(x = 'customer_age', y='tripduration_minutes',style='o') \n",
    "plt.title('Customer Age vs Trip Duration')  \n",
    "plt.xlabel('Customer Age')  \n",
    "plt.ylabel('Trip Duration Minutes')  \n",
    "plt.show()"
   ]
  },
  {
   "cell_type": "code",
   "execution_count": 31,
   "id": "01b14359",
   "metadata": {},
   "outputs": [],
   "source": [
    "# Reshape variables into Numpy arrays and put into separate objects\n",
    "X2 = df_trips2['customer_age'].values.reshape(-1,1)\n",
    "y2 = df_trips2['tripduration_minutes'].values.reshape(-1,1)"
   ]
  },
  {
   "cell_type": "code",
   "execution_count": 32,
   "id": "854e5611",
   "metadata": {},
   "outputs": [
    {
     "data": {
      "text/plain": [
       "array([[36],\n",
       "       [31],\n",
       "       [31],\n",
       "       ...,\n",
       "       [41],\n",
       "       [63],\n",
       "       [63]], dtype=int64)"
      ]
     },
     "execution_count": 32,
     "metadata": {},
     "output_type": "execute_result"
    }
   ],
   "source": [
    "# View array for independent variable\n",
    "X2"
   ]
  },
  {
   "cell_type": "code",
   "execution_count": 33,
   "id": "59e0624b",
   "metadata": {},
   "outputs": [
    {
     "data": {
      "text/plain": [
       "array([[ 3.76666667],\n",
       "       [ 6.28333333],\n",
       "       [ 4.8       ],\n",
       "       ...,\n",
       "       [17.81666667],\n",
       "       [22.18333333],\n",
       "       [ 2.66666667]])"
      ]
     },
     "execution_count": 33,
     "metadata": {},
     "output_type": "execute_result"
    }
   ],
   "source": [
    "# View array for dependent variable\n",
    "y2"
   ]
  },
  {
   "cell_type": "code",
   "execution_count": 34,
   "id": "ed7bb58e",
   "metadata": {},
   "outputs": [],
   "source": [
    "# Split data into train set and test set\n",
    "X2_train, X2_test, y2_train, y2_test = train_test_split(X2, y2, test_size=0.3, random_state=0)"
   ]
  },
  {
   "cell_type": "markdown",
   "id": "3cb50d49",
   "metadata": {},
   "source": [
    "# 08. Regression Analysis without Age 51"
   ]
  },
  {
   "cell_type": "code",
   "execution_count": 35,
   "id": "b6281932",
   "metadata": {},
   "outputs": [],
   "source": [
    "# Create regression object\n",
    "regression2 = LinearRegression()"
   ]
  },
  {
   "cell_type": "code",
   "execution_count": 36,
   "id": "4128459a",
   "metadata": {},
   "outputs": [
    {
     "data": {
      "text/plain": [
       "LinearRegression()"
      ]
     },
     "execution_count": 36,
     "metadata": {},
     "output_type": "execute_result"
    }
   ],
   "source": [
    "# Fit regression object onto training set\n",
    "regression2.fit(X2_train, y2_train)"
   ]
  },
  {
   "cell_type": "code",
   "execution_count": 37,
   "id": "da54f333",
   "metadata": {},
   "outputs": [],
   "source": [
    "# Predict values of y2 using X2\n",
    "y2_predicted = regression2.predict(X2_test)"
   ]
  },
  {
   "cell_type": "code",
   "execution_count": 38,
   "id": "89b50b24",
   "metadata": {},
   "outputs": [
    {
     "data": {
      "image/png": "[encoded data removed]",
      "text/plain": [
       "<Figure size 640x480 with 1 Axes>"
      ]
     },
     "metadata": {},
     "output_type": "display_data"
    }
   ],
   "source": [
    "# Create Plot that shows regression line from model on test set\n",
    "plot_test2 = plt\n",
    "plot_test2.scatter(X2_test, y2_test, color='gray', s = 15)\n",
    "plot_test2.plot(X2_test, y2_predicted, color='red', linewidth =3)\n",
    "plot_test2.title('Customer Age vs Trip Duration Minutes (Test set)')\n",
    "plot_test2.xlabel('Customer Age')\n",
    "plot_test2.ylabel('Trip Duration Minutes')\n",
    "plot_test2.show()"
   ]
  },
  {
   "cell_type": "code",
   "execution_count": 39,
   "id": "5ef453a6",
   "metadata": {},
   "outputs": [],
   "source": [
    "# Create objects containing model summary statistics\n",
    "rmse2 = mean_squared_error(y2_test, y2_predicted) # Mean Squared Error (MSE)\n",
    "r22 = r2_score(y2_test, y2_predicted) # R2 score. "
   ]
  },
  {
   "cell_type": "code",
   "execution_count": 40,
   "id": "ea17ce69",
   "metadata": {},
   "outputs": [
    {
     "name": "stdout",
     "output_type": "stream",
     "text": [
      "Slope: [[-0.23649753]]\n",
      "Mean squared error:  1256.705680415607\n",
      "R2 score:  0.004126811839904043\n"
     ]
    }
   ],
   "source": [
    "# Print model summary statistics\n",
    "print('Slope:' ,regression2.coef_)\n",
    "print('Mean squared error: ', rmse2)\n",
    "print('R2 score: ', r22)"
   ]
  },
  {
   "cell_type": "code",
   "execution_count": 41,
   "id": "6b7dd665",
   "metadata": {},
   "outputs": [
    {
     "data": {
      "text/plain": [
       "array([[20.47313857],\n",
       "       [15.97968545],\n",
       "       [19.29065091],\n",
       "       ...,\n",
       "       [18.10816324],\n",
       "       [15.97968545],\n",
       "       [11.01323726]])"
      ]
     },
     "execution_count": 41,
     "metadata": {},
     "output_type": "execute_result"
    }
   ],
   "source": [
    "# View array for y2_predicted\n",
    "y2_predicted"
   ]
  },
  {
   "cell_type": "code",
   "execution_count": 42,
   "id": "c9b9df3c",
   "metadata": {},
   "outputs": [
    {
     "data": {
      "text/html": [
       "<div>\n",
       "<style scoped>\n",
       "    .dataframe tbody tr th:only-of-type {\n",
       "        vertical-align: middle;\n",
       "    }\n",
       "\n",
       "    .dataframe tbody tr th {\n",
       "        vertical-align: top;\n",
       "    }\n",
       "\n",
       "    .dataframe thead th {\n",
       "        text-align: right;\n",
       "    }\n",
       "</style>\n",
       "<table border=\"1\" class=\"dataframe\">\n",
       "  <thead>\n",
       "    <tr style=\"text-align: right;\">\n",
       "      <th></th>\n",
       "      <th>Actual</th>\n",
       "      <th>Predicted</th>\n",
       "    </tr>\n",
       "  </thead>\n",
       "  <tbody>\n",
       "    <tr>\n",
       "      <th>0</th>\n",
       "      <td>6.166667</td>\n",
       "      <td>20.473139</td>\n",
       "    </tr>\n",
       "    <tr>\n",
       "      <th>1</th>\n",
       "      <td>2.716667</td>\n",
       "      <td>15.979685</td>\n",
       "    </tr>\n",
       "    <tr>\n",
       "      <th>2</th>\n",
       "      <td>8.100000</td>\n",
       "      <td>19.290651</td>\n",
       "    </tr>\n",
       "    <tr>\n",
       "      <th>3</th>\n",
       "      <td>2.516667</td>\n",
       "      <td>18.581158</td>\n",
       "    </tr>\n",
       "    <tr>\n",
       "      <th>4</th>\n",
       "      <td>35.983333</td>\n",
       "      <td>11.722730</td>\n",
       "    </tr>\n",
       "    <tr>\n",
       "      <th>5</th>\n",
       "      <td>24.883333</td>\n",
       "      <td>19.290651</td>\n",
       "    </tr>\n",
       "    <tr>\n",
       "      <th>6</th>\n",
       "      <td>3.966667</td>\n",
       "      <td>15.270193</td>\n",
       "    </tr>\n",
       "    <tr>\n",
       "      <th>7</th>\n",
       "      <td>10.116667</td>\n",
       "      <td>20.236641</td>\n",
       "    </tr>\n",
       "    <tr>\n",
       "      <th>8</th>\n",
       "      <td>5.083333</td>\n",
       "      <td>16.689178</td>\n",
       "    </tr>\n",
       "    <tr>\n",
       "      <th>9</th>\n",
       "      <td>5.550000</td>\n",
       "      <td>17.398671</td>\n",
       "    </tr>\n",
       "    <tr>\n",
       "      <th>10</th>\n",
       "      <td>6.616667</td>\n",
       "      <td>11.249735</td>\n",
       "    </tr>\n",
       "    <tr>\n",
       "      <th>11</th>\n",
       "      <td>57.033333</td>\n",
       "      <td>20.000144</td>\n",
       "    </tr>\n",
       "    <tr>\n",
       "      <th>12</th>\n",
       "      <td>6.666667</td>\n",
       "      <td>12.905218</td>\n",
       "    </tr>\n",
       "    <tr>\n",
       "      <th>13</th>\n",
       "      <td>25.050000</td>\n",
       "      <td>13.141715</td>\n",
       "    </tr>\n",
       "    <tr>\n",
       "      <th>14</th>\n",
       "      <td>19.183333</td>\n",
       "      <td>20.236641</td>\n",
       "    </tr>\n",
       "    <tr>\n",
       "      <th>15</th>\n",
       "      <td>4.900000</td>\n",
       "      <td>10.776740</td>\n",
       "    </tr>\n",
       "    <tr>\n",
       "      <th>16</th>\n",
       "      <td>7.266667</td>\n",
       "      <td>15.506690</td>\n",
       "    </tr>\n",
       "    <tr>\n",
       "      <th>17</th>\n",
       "      <td>11.783333</td>\n",
       "      <td>20.000144</td>\n",
       "    </tr>\n",
       "    <tr>\n",
       "      <th>18</th>\n",
       "      <td>78.733333</td>\n",
       "      <td>21.419129</td>\n",
       "    </tr>\n",
       "    <tr>\n",
       "      <th>19</th>\n",
       "      <td>5.333333</td>\n",
       "      <td>16.689178</td>\n",
       "    </tr>\n",
       "    <tr>\n",
       "      <th>20</th>\n",
       "      <td>35.783333</td>\n",
       "      <td>19.054153</td>\n",
       "    </tr>\n",
       "    <tr>\n",
       "      <th>21</th>\n",
       "      <td>110.233333</td>\n",
       "      <td>18.581158</td>\n",
       "    </tr>\n",
       "    <tr>\n",
       "      <th>22</th>\n",
       "      <td>2.933333</td>\n",
       "      <td>17.871666</td>\n",
       "    </tr>\n",
       "    <tr>\n",
       "      <th>23</th>\n",
       "      <td>47.750000</td>\n",
       "      <td>19.763646</td>\n",
       "    </tr>\n",
       "    <tr>\n",
       "      <th>24</th>\n",
       "      <td>69.550000</td>\n",
       "      <td>20.946134</td>\n",
       "    </tr>\n",
       "    <tr>\n",
       "      <th>25</th>\n",
       "      <td>9.416667</td>\n",
       "      <td>19.763646</td>\n",
       "    </tr>\n",
       "    <tr>\n",
       "      <th>26</th>\n",
       "      <td>5.816667</td>\n",
       "      <td>16.216183</td>\n",
       "    </tr>\n",
       "    <tr>\n",
       "      <th>27</th>\n",
       "      <td>37.266667</td>\n",
       "      <td>18.817656</td>\n",
       "    </tr>\n",
       "    <tr>\n",
       "      <th>28</th>\n",
       "      <td>35.300000</td>\n",
       "      <td>19.763646</td>\n",
       "    </tr>\n",
       "    <tr>\n",
       "      <th>29</th>\n",
       "      <td>3.233333</td>\n",
       "      <td>13.614710</td>\n",
       "    </tr>\n",
       "  </tbody>\n",
       "</table>\n",
       "</div>"
      ],
      "text/plain": [
       "        Actual  Predicted\n",
       "0     6.166667  20.473139\n",
       "1     2.716667  15.979685\n",
       "2     8.100000  19.290651\n",
       "3     2.516667  18.581158\n",
       "4    35.983333  11.722730\n",
       "5    24.883333  19.290651\n",
       "6     3.966667  15.270193\n",
       "7    10.116667  20.236641\n",
       "8     5.083333  16.689178\n",
       "9     5.550000  17.398671\n",
       "10    6.616667  11.249735\n",
       "11   57.033333  20.000144\n",
       "12    6.666667  12.905218\n",
       "13   25.050000  13.141715\n",
       "14   19.183333  20.236641\n",
       "15    4.900000  10.776740\n",
       "16    7.266667  15.506690\n",
       "17   11.783333  20.000144\n",
       "18   78.733333  21.419129\n",
       "19    5.333333  16.689178\n",
       "20   35.783333  19.054153\n",
       "21  110.233333  18.581158\n",
       "22    2.933333  17.871666\n",
       "23   47.750000  19.763646\n",
       "24   69.550000  20.946134\n",
       "25    9.416667  19.763646\n",
       "26    5.816667  16.216183\n",
       "27   37.266667  18.817656\n",
       "28   35.300000  19.763646\n",
       "29    3.233333  13.614710"
      ]
     },
     "execution_count": 42,
     "metadata": {},
     "output_type": "execute_result"
    }
   ],
   "source": [
    "# Create a dataframe comparing actual and predicted values of y.\n",
    "data2 = pd.DataFrame({'Actual': y2_test.flatten(), 'Predicted': y2_predicted.flatten()})\n",
    "data2.head(30)"
   ]
  },
  {
   "cell_type": "markdown",
   "id": "42da2062",
   "metadata": {},
   "source": [
    "#### Observations: The model performance is still very poor when age 51 is excluded. "
   ]
  },
  {
   "cell_type": "markdown",
   "id": "e6f887b2",
   "metadata": {},
   "source": [
    "# 09. Compare how Regression fits Training Set without Age 51"
   ]
  },
  {
   "cell_type": "code",
   "execution_count": 43,
   "id": "03477eb2",
   "metadata": {},
   "outputs": [],
   "source": [
    "# Predict\n",
    "y2_predicted_train = regression2.predict(X2_train) # This is predicting X_train!"
   ]
  },
  {
   "cell_type": "code",
   "execution_count": 44,
   "id": "72e60a6e",
   "metadata": {},
   "outputs": [],
   "source": [
    "# Create objects containing summary statistics\n",
    "rmse2 = mean_squared_error(y2_train, y2_predicted_train)\n",
    "r22 = r2_score(y2_train, y2_predicted_train)"
   ]
  },
  {
   "cell_type": "code",
   "execution_count": 45,
   "id": "efa7d7f6",
   "metadata": {},
   "outputs": [
    {
     "name": "stdout",
     "output_type": "stream",
     "text": [
      "Slope: [[-0.23649753]]\n",
      "Mean squared error:  1392.5717621249817\n",
      "R2 score:  0.0045288721988169245\n"
     ]
    }
   ],
   "source": [
    "# Print summary statistics\n",
    "print('Slope:', regression2.coef_)\n",
    "print('Mean squared error: ', rmse2)\n",
    "print('R2 score: ', r22)"
   ]
  },
  {
   "cell_type": "code",
   "execution_count": 46,
   "id": "eb00839f",
   "metadata": {},
   "outputs": [
    {
     "data": {
      "image/png": "[encoded data removed]",
      "text/plain": [
       "<Figure size 640x480 with 1 Axes>"
      ]
     },
     "metadata": {},
     "output_type": "display_data"
    }
   ],
   "source": [
    "# Visualizing training set results.\n",
    "\n",
    "plot_test2 = plt\n",
    "plot_test2.scatter(X2_train, y2_train, color='green', s = 15)\n",
    "plot_test2.plot(X2_train, y2_predicted_train, color='red', linewidth =3)\n",
    "plot_test2.title('Customer Age vs Trip Duration Minutes (Train set)')\n",
    "plot_test2.xlabel('Customer Age')\n",
    "plot_test2.ylabel('Trip Duration Minutes')\n",
    "plot_test2.show()"
   ]
  },
  {
   "cell_type": "code",
   "execution_count": null,
   "id": "94384e38",
   "metadata": {},
   "outputs": [],
   "source": []
  }
 ],
 "metadata": {
  "kernelspec": {
   "display_name": "Python 3 (ipykernel)",
   "language": "python",
   "name": "python3"
  },
  "language_info": {
   "codemirror_mode": {
    "name": "ipython",
    "version": 3
   },
   "file_extension": ".py",
   "mimetype": "text/x-python",
   "name": "python",
   "nbconvert_exporter": "python",
   "pygments_lexer": "ipython3",
   "version": "3.10.9"
  }
 },
 "nbformat": 4,
 "nbformat_minor": 5
}
